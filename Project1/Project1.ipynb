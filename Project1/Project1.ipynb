{
 "cells": [
  {
   "cell_type": "markdown",
   "metadata": {},
   "source": [
    "# TASK 1"
   ]
  },
  {
   "cell_type": "code",
   "execution_count": 1,
   "metadata": {},
   "outputs": [],
   "source": [
    "import pandas as pd\n",
    "import numpy as np"
   ]
  },
  {
   "cell_type": "code",
   "execution_count": 2,
   "metadata": {},
   "outputs": [],
   "source": [
    "table2 = pd.read_csv(\"table2.csv\")\n",
    "table3 = pd.read_csv(\"table3.csv\")\n",
    "table4 = pd.read_csv(\"table4.csv\")\n",
    "table5 = pd.read_csv(\"table5_temp.csv\")\n",
    "table6 = pd.read_csv(\"table6.csv\")\n",
    "table7 = pd.read_csv(\"table7_temp.csv\")\n",
    "table8 = pd.read_csv(\"table8_temp.csv\")"
   ]
  },
  {
   "cell_type": "code",
   "execution_count": 3,
   "metadata": {},
   "outputs": [],
   "source": [
    "\n",
    "def dataCleaning(table):\n",
    "    \n",
    "    table=table.fillna(0)\n",
    "    for name, values in table.iteritems():\n",
    "        for i in range(0,table.shape[0]):\n",
    "            if(isinstance(values[i], str)):\n",
    "                if('%' in values[i]):\n",
    "                    values[i] = values[i].rsplit('%', 1)[0]\n",
    "                    values[i] = float(values[i])/100\n",
    "                \n",
    "    return table             \n",
    "                \n",
    "        \n",
    "        \n"
   ]
  },
  {
   "cell_type": "code",
   "execution_count": 4,
   "metadata": {},
   "outputs": [],
   "source": [
    "marginal = dataCleaning(table2)\n",
    "cpd_x1 = dataCleaning(table3)\n",
    "cpd_x2 = dataCleaning(table4)\n",
    "cpd_x3 = dataCleaning(table5)\n",
    "cpd_x4 = dataCleaning(table6)\n",
    "cpd_x5 = dataCleaning(table7)\n",
    "cpd_x6 = dataCleaning(table8)"
   ]
  },
  {
   "cell_type": "code",
   "execution_count": 5,
   "metadata": {},
   "outputs": [
    {
     "data": {
      "text/html": [
       "<div>\n",
       "<style scoped>\n",
       "    .dataframe tbody tr th:only-of-type {\n",
       "        vertical-align: middle;\n",
       "    }\n",
       "\n",
       "    .dataframe tbody tr th {\n",
       "        vertical-align: top;\n",
       "    }\n",
       "\n",
       "    .dataframe thead th {\n",
       "        text-align: right;\n",
       "    }\n",
       "</style>\n",
       "<table border=\"1\" class=\"dataframe\">\n",
       "  <thead>\n",
       "    <tr style=\"text-align: right;\">\n",
       "      <th></th>\n",
       "      <th>Values</th>\n",
       "      <th>x1 (Relative height to t to h)</th>\n",
       "      <th>x2 (Shape of h loop)</th>\n",
       "      <th>x3 (Shape of h arch)</th>\n",
       "      <th>x4 (Height of Cross )</th>\n",
       "      <th>x5 (Baseline of h)</th>\n",
       "      <th>x6 (Shape of t)</th>\n",
       "    </tr>\n",
       "  </thead>\n",
       "  <tbody>\n",
       "    <tr>\n",
       "      <th>0</th>\n",
       "      <td>a = x0</td>\n",
       "      <td>0.78</td>\n",
       "      <td>0.275</td>\n",
       "      <td>0.18</td>\n",
       "      <td>0.715</td>\n",
       "      <td>0.375</td>\n",
       "      <td>0.015</td>\n",
       "    </tr>\n",
       "    <tr>\n",
       "      <th>1</th>\n",
       "      <td>b = x1</td>\n",
       "      <td>0.015</td>\n",
       "      <td>0.32</td>\n",
       "      <td>0.66</td>\n",
       "      <td>0.105</td>\n",
       "      <td>0.11</td>\n",
       "      <td>0.32</td>\n",
       "    </tr>\n",
       "    <tr>\n",
       "      <th>2</th>\n",
       "      <td>c = x2</td>\n",
       "      <td>0.055</td>\n",
       "      <td>0.025</td>\n",
       "      <td>0.16</td>\n",
       "      <td>0.01</td>\n",
       "      <td>0.105</td>\n",
       "      <td>0.14</td>\n",
       "    </tr>\n",
       "    <tr>\n",
       "      <th>3</th>\n",
       "      <td>d = x3</td>\n",
       "      <td>0.15</td>\n",
       "      <td>0.17</td>\n",
       "      <td>0</td>\n",
       "      <td>0.17</td>\n",
       "      <td>0.41</td>\n",
       "      <td>0.315</td>\n",
       "    </tr>\n",
       "    <tr>\n",
       "      <th>4</th>\n",
       "      <td>e = x4</td>\n",
       "      <td>0</td>\n",
       "      <td>0.21</td>\n",
       "      <td>0</td>\n",
       "      <td>0</td>\n",
       "      <td>0</td>\n",
       "      <td>0.21</td>\n",
       "    </tr>\n",
       "  </tbody>\n",
       "</table>\n",
       "</div>"
      ],
      "text/plain": [
       "   Values x1 (Relative height to t to h) x2 (Shape of h loop)  \\\n",
       "0  a = x0                           0.78                0.275   \n",
       "1  b = x1                          0.015                 0.32   \n",
       "2  c = x2                          0.055                0.025   \n",
       "3  d = x3                           0.15                 0.17   \n",
       "4  e = x4                              0                 0.21   \n",
       "\n",
       "  x3 (Shape of h arch) x4 (Height of Cross ) x5 (Baseline of h)  \\\n",
       "0                 0.18                 0.715              0.375   \n",
       "1                 0.66                 0.105               0.11   \n",
       "2                 0.16                  0.01              0.105   \n",
       "3                    0                  0.17               0.41   \n",
       "4                    0                     0                  0   \n",
       "\n",
       "  x6 (Shape of t)  \n",
       "0           0.015  \n",
       "1            0.32  \n",
       "2            0.14  \n",
       "3           0.315  \n",
       "4            0.21  "
      ]
     },
     "execution_count": 5,
     "metadata": {},
     "output_type": "execute_result"
    }
   ],
   "source": [
    "marginal\n"
   ]
  },
  {
   "cell_type": "code",
   "execution_count": 6,
   "metadata": {},
   "outputs": [],
   "source": [
    "\n",
    "def getProduct(column1,column2):\n",
    "    product = []\n",
    "    for i in range(0,len(marginal[column1])):\n",
    "        for j in range(0,len(marginal[column2])):\n",
    "            product.append(marginal[column1][i] * marginal[column2][j])\n",
    "    x=np.reshape(product,(5,5))\n",
    "    return pd.DataFrame(x)\n",
    "        "
   ]
  },
  {
   "cell_type": "code",
   "execution_count": null,
   "metadata": {},
   "outputs": [],
   "source": []
  },
  {
   "cell_type": "code",
   "execution_count": 7,
   "metadata": {},
   "outputs": [],
   "source": [
    "def getJointProbabilityDistributions(cpd_table):\n",
    "    temp = cpd_table\n",
    "    temp = temp.drop(cpd_table.columns.values[0], 1)\n",
    "    temp1 = []\n",
    "    for i in range(1,len(cpd_table.columns.values)):\n",
    "        t1 = np.dot(temp[cpd_table.columns.values[i]][1:],temp[cpd_table.columns.values[i]][0])\n",
    "        temp1.append(t1)\n",
    "        \n",
    "        \n",
    "    \n",
    "    return pd.DataFrame(np.transpose(temp1))"
   ]
  },
  {
   "cell_type": "code",
   "execution_count": 8,
   "metadata": {},
   "outputs": [],
   "source": [
    "joint_x1 = getJointProbabilityDistributions(cpd_x1)\n",
    "joint_x1[4]=0\n",
    "joint_x2_x1 =   joint_x1[:5]\n",
    "joint_x4_x1 =   joint_x1[5:9]\n",
    "joint_x6_x1 =   joint_x1[9:14]"
   ]
  },
  {
   "cell_type": "code",
   "execution_count": null,
   "metadata": {},
   "outputs": [],
   "source": []
  },
  {
   "cell_type": "code",
   "execution_count": null,
   "metadata": {},
   "outputs": [],
   "source": []
  },
  {
   "cell_type": "code",
   "execution_count": 9,
   "metadata": {},
   "outputs": [],
   "source": [
    "joint_x4_x1 = joint_x4_x1.reset_index(drop=True)\n",
    "joint_x4_x1.loc[4] = 0\n"
   ]
  },
  {
   "cell_type": "code",
   "execution_count": 10,
   "metadata": {},
   "outputs": [],
   "source": [
    "joint_x6_x1 = joint_x6_x1.reset_index(drop=True)\n"
   ]
  },
  {
   "cell_type": "code",
   "execution_count": 11,
   "metadata": {},
   "outputs": [],
   "source": [
    "prod_x2_x1 = getProduct('x1 (Relative height to t to h)','x2 (Shape of h loop)')\n",
    "prod_x4_x1 = getProduct('x1 (Relative height to t to h)','x4 (Height of Cross )')\n",
    "prod_x6_x1 = getProduct('x1 (Relative height to t to h)','x6 (Shape of t)')    "
   ]
  },
  {
   "cell_type": "code",
   "execution_count": null,
   "metadata": {},
   "outputs": [],
   "source": []
  },
  {
   "cell_type": "code",
   "execution_count": 12,
   "metadata": {},
   "outputs": [],
   "source": [
    "#diff_x2_x1 = np.abs(joint_x2_x1.T.sub(prod_x2_x1, axis=1).T)\n",
    "#diff_x4_x1 = np.abs(joint_x4_x1.T.sub(prod_x4_x1[:4], axis=1).T)\n",
    "#diff_x6_x1 = np.abs(joint_x6_x1.T.sub(prod_x6_x1, axis=1).T)\n",
    "diff_x2_x1 = np.abs(joint_x2_x1 - prod_x2_x1.T)\n",
    "diff_x4_x1 = np.abs(joint_x4_x1 - prod_x4_x1.T)\n",
    "diff_x6_x1 = np.abs(joint_x6_x1 - prod_x6_x1.T)"
   ]
  },
  {
   "cell_type": "code",
   "execution_count": 13,
   "metadata": {},
   "outputs": [
    {
     "name": "stdout",
     "output_type": "stream",
     "text": [
      "0.15977\n",
      "0.11943000000000004\n",
      "0.16015500000000005\n"
     ]
    }
   ],
   "source": [
    "print(diff_x2_x1.values.sum())\n",
    "print(diff_x4_x1.values.sum())\n",
    "print(diff_x6_x1.values.sum())\n",
    "#print(diff_x2_x1[1].sum())\n",
    "#print(diff_x2_x1[2].sum())\n",
    "#print(diff_x2_x1[3].sum())"
   ]
  },
  {
   "cell_type": "code",
   "execution_count": null,
   "metadata": {},
   "outputs": [],
   "source": []
  },
  {
   "cell_type": "code",
   "execution_count": 14,
   "metadata": {},
   "outputs": [],
   "source": [
    "joint_x2 = getJointProbabilityDistributions(cpd_x2)\n",
    "joint_x3_x2 =   joint_x2[:3]\n",
    "joint_x5_x2 =   joint_x2[3:8]\n",
    "joint_x3_x2 = joint_x3_x2.reset_index(drop=True)\n",
    "joint_x3_x2.loc[3]=0\n",
    "joint_x3_x2.loc[4]=0"
   ]
  },
  {
   "cell_type": "code",
   "execution_count": 15,
   "metadata": {},
   "outputs": [],
   "source": [
    "joint_x5_x2 = joint_x5_x2.reset_index(drop=True)\n",
    "joint_x5_x2.loc[4]=0\n"
   ]
  },
  {
   "cell_type": "code",
   "execution_count": 16,
   "metadata": {},
   "outputs": [],
   "source": [
    "prod_x3_x2 = getProduct('x2 (Shape of h loop)','x3 (Shape of h arch)')\n",
    "prod_x5_x2 = getProduct('x2 (Shape of h loop)','x5 (Baseline of h)')\n"
   ]
  },
  {
   "cell_type": "code",
   "execution_count": 17,
   "metadata": {},
   "outputs": [],
   "source": [
    "#diff_x3_x2 = np.abs(joint_x3_x2.T.sub(prod_x3_x2[:3], axis=1).T)\n",
    "#diff_x5_x2 = np.abs(joint_x5_x2.T.sub(prod_x5_x2[:4], axis=1).T)\n",
    "\n",
    "diff_x3_x2 = np.abs(joint_x3_x2 - prod_x3_x2.T)\n",
    "diff_x5_x2 = np.abs(joint_x5_x2 - prod_x5_x2.T)"
   ]
  },
  {
   "cell_type": "code",
   "execution_count": null,
   "metadata": {},
   "outputs": [],
   "source": []
  },
  {
   "cell_type": "code",
   "execution_count": 18,
   "metadata": {},
   "outputs": [
    {
     "name": "stdout",
     "output_type": "stream",
     "text": [
      "0.21852500000000002\n",
      "0.13246000000000005\n"
     ]
    }
   ],
   "source": [
    "print(diff_x3_x2.values.sum())\n",
    "print(diff_x5_x2.values.sum())"
   ]
  },
  {
   "cell_type": "code",
   "execution_count": null,
   "metadata": {},
   "outputs": [],
   "source": []
  },
  {
   "cell_type": "code",
   "execution_count": 19,
   "metadata": {},
   "outputs": [],
   "source": [
    "joint_x3 = getJointProbabilityDistributions(cpd_x3)\n",
    "joint_x3[3]=0\n",
    "joint_x3[4]=0\n",
    "joint_x2_x3 =   joint_x3[:5]\n",
    "joint_x5_x3 =   joint_x3[5:9]\n",
    "joint_x6_x3 =   joint_x3[9:14]"
   ]
  },
  {
   "cell_type": "code",
   "execution_count": null,
   "metadata": {},
   "outputs": [],
   "source": []
  },
  {
   "cell_type": "code",
   "execution_count": 20,
   "metadata": {},
   "outputs": [],
   "source": [
    "joint_x5_x3 =  joint_x5_x3.reset_index(drop=True)\n",
    "joint_x5_x3.loc[4]=0\n"
   ]
  },
  {
   "cell_type": "code",
   "execution_count": 21,
   "metadata": {},
   "outputs": [],
   "source": [
    "joint_x6_x3 =  joint_x6_x3.reset_index(drop=True)\n"
   ]
  },
  {
   "cell_type": "code",
   "execution_count": 22,
   "metadata": {},
   "outputs": [
    {
     "name": "stdout",
     "output_type": "stream",
     "text": [
      "        0       1       2       3       4\n",
      "0  0.0495  0.0576  0.0045  0.0306  0.0378\n",
      "1  0.1815  0.2112  0.0165  0.1122  0.1386\n",
      "2  0.0440  0.0512  0.0040  0.0272  0.0336\n",
      "3  0.0000  0.0000  0.0000  0.0000  0.0000\n",
      "4  0.0000  0.0000  0.0000  0.0000  0.0000\n",
      "        0       1       2       3    4\n",
      "0  0.0675  0.0198  0.0189  0.0738  0.0\n",
      "1  0.2475  0.0726  0.0693  0.2706  0.0\n",
      "2  0.0600  0.0176  0.0168  0.0656  0.0\n",
      "3  0.0000  0.0000  0.0000  0.0000  0.0\n",
      "4  0.0000  0.0000  0.0000  0.0000  0.0\n",
      "        0       1       2       3       4\n",
      "0  0.0027  0.0576  0.0252  0.0567  0.0378\n",
      "1  0.0099  0.2112  0.0924  0.2079  0.1386\n",
      "2  0.0024  0.0512  0.0224  0.0504  0.0336\n",
      "3  0.0000  0.0000  0.0000  0.0000  0.0000\n",
      "4  0.0000  0.0000  0.0000  0.0000  0.0000\n"
     ]
    }
   ],
   "source": [
    "prod_x2_x3 = getProduct('x3 (Shape of h arch)','x2 (Shape of h loop)')\n",
    "prod_x5_x3 = getProduct('x3 (Shape of h arch)','x5 (Baseline of h)')\n",
    "prod_x6_x3 = getProduct('x3 (Shape of h arch)','x6 (Shape of t)')\n",
    "print(prod_x2_x3)\n",
    "print(prod_x5_x3)\n",
    "print(prod_x6_x3)"
   ]
  },
  {
   "cell_type": "code",
   "execution_count": 23,
   "metadata": {},
   "outputs": [],
   "source": [
    "diff_x2_x3 = np.abs(joint_x2_x3 - prod_x2_x3.T)\n",
    "diff_x5_x3 = np.abs(joint_x5_x3 - prod_x5_x3.T)\n",
    "diff_x6_x3 = np.abs(joint_x6_x3 - prod_x6_x3.T)"
   ]
  },
  {
   "cell_type": "code",
   "execution_count": 24,
   "metadata": {},
   "outputs": [
    {
     "name": "stdout",
     "output_type": "stream",
     "text": [
      "0.21875800000000006\n",
      "0.11551999999999997\n",
      "0.09564000000000002\n"
     ]
    }
   ],
   "source": [
    "print(diff_x2_x3.values.sum())\n",
    "print(diff_x5_x3.values.sum())\n",
    "print(diff_x6_x3.values.sum())"
   ]
  },
  {
   "cell_type": "code",
   "execution_count": null,
   "metadata": {},
   "outputs": [],
   "source": []
  },
  {
   "cell_type": "code",
   "execution_count": 25,
   "metadata": {},
   "outputs": [],
   "source": [
    "joint_x4 = getJointProbabilityDistributions(cpd_x4)\n",
    "joint_x4[4]=0\n",
    "joint_x1_x4 =   joint_x4[:4].reset_index(drop=True)\n",
    "joint_x2_x4 =   joint_x4[4:9].reset_index(drop=True)\n",
    "joint_x6_x4 =   joint_x4[9:14].reset_index(drop=True)\n",
    "joint_x1_x4.loc[4]=0\n"
   ]
  },
  {
   "cell_type": "code",
   "execution_count": 26,
   "metadata": {},
   "outputs": [
    {
     "name": "stdout",
     "output_type": "stream",
     "text": [
      "          0         1        2        3    4\n",
      "0  0.557700  0.081900  0.00780  0.13260  0.0\n",
      "1  0.010725  0.001575  0.00015  0.00255  0.0\n",
      "2  0.039325  0.005775  0.00055  0.00935  0.0\n",
      "3  0.107250  0.015750  0.00150  0.02550  0.0\n",
      "4  0.000000  0.000000  0.00000  0.00000  0.0\n",
      "          0         1        2        3    4\n",
      "0  0.196625  0.028875  0.00275  0.04675  0.0\n",
      "1  0.228800  0.033600  0.00320  0.05440  0.0\n",
      "2  0.017875  0.002625  0.00025  0.00425  0.0\n",
      "3  0.121550  0.017850  0.00170  0.02890  0.0\n",
      "4  0.150150  0.022050  0.00210  0.03570  0.0\n",
      "          0         1        2        3    4\n",
      "0  0.010725  0.001575  0.00015  0.00255  0.0\n",
      "1  0.228800  0.033600  0.00320  0.05440  0.0\n",
      "2  0.100100  0.014700  0.00140  0.02380  0.0\n",
      "3  0.225225  0.033075  0.00315  0.05355  0.0\n",
      "4  0.150150  0.022050  0.00210  0.03570  0.0\n"
     ]
    }
   ],
   "source": [
    "prod_x1_x4 = getProduct('x4 (Height of Cross )','x1 (Relative height to t to h)')\n",
    "prod_x2_x4 = getProduct('x4 (Height of Cross )','x2 (Shape of h loop)')\n",
    "prod_x6_x4 = getProduct('x4 (Height of Cross )','x6 (Shape of t)')\n",
    "print(prod_x1_x4.T)\n",
    "print(prod_x2_x4.T)\n",
    "print(prod_x6_x4.T)"
   ]
  },
  {
   "cell_type": "code",
   "execution_count": 27,
   "metadata": {},
   "outputs": [],
   "source": [
    "diff_x1_x4 = np.abs(joint_x1_x4 - prod_x1_x4.T)\n",
    "diff_x2_x4 = np.abs(joint_x2_x4 - prod_x2_x4.T)\n",
    "diff_x6_x4 = np.abs(joint_x6_x4 - prod_x6_x4.T)\n",
    "\n"
   ]
  },
  {
   "cell_type": "code",
   "execution_count": 28,
   "metadata": {},
   "outputs": [
    {
     "name": "stdout",
     "output_type": "stream",
     "text": [
      "0.11957000000000002\n",
      "0.11569999999999997\n",
      "0.14346999999999996\n"
     ]
    }
   ],
   "source": [
    "print(diff_x1_x4.values.sum())\n",
    "print(diff_x2_x4.values.sum())\n",
    "print(diff_x6_x4.values.sum())\n",
    "\n"
   ]
  },
  {
   "cell_type": "code",
   "execution_count": null,
   "metadata": {},
   "outputs": [],
   "source": []
  },
  {
   "cell_type": "code",
   "execution_count": 29,
   "metadata": {},
   "outputs": [],
   "source": [
    "joint_x5 = getJointProbabilityDistributions(cpd_x5)\n",
    "joint_x5[4] = 0\n",
    "joint_x2_x5 =   joint_x5[:5].reset_index(drop=True)\n",
    "joint_x3_x5 =   joint_x5[5:9].reset_index(drop=True)\n",
    "joint_x3_x5.loc[3]=0\n",
    "joint_x3_x5.loc[4]=0\n"
   ]
  },
  {
   "cell_type": "code",
   "execution_count": 30,
   "metadata": {},
   "outputs": [],
   "source": [
    "prod_x2_x5 = getProduct('x5 (Baseline of h)','x2 (Shape of h loop)')\n",
    "prod_x3_x5 = getProduct('x5 (Baseline of h)','x3 (Shape of h arch)')\n",
    "\n"
   ]
  },
  {
   "cell_type": "code",
   "execution_count": 31,
   "metadata": {},
   "outputs": [],
   "source": [
    "diff_x2_x5 = np.abs(joint_x2_x5 - prod_x2_x5.T)\n",
    "diff_x3_x5 = np.abs(joint_x3_x5 - prod_x3_x5.T)\n",
    "\n"
   ]
  },
  {
   "cell_type": "code",
   "execution_count": 32,
   "metadata": {},
   "outputs": [
    {
     "name": "stdout",
     "output_type": "stream",
     "text": [
      "0.13126499999999997\n",
      "0.11670000000000004\n"
     ]
    }
   ],
   "source": [
    "print(diff_x2_x5.values.sum())\n",
    "\n",
    "print(diff_x3_x5.values.sum())\n"
   ]
  },
  {
   "cell_type": "code",
   "execution_count": null,
   "metadata": {},
   "outputs": [],
   "source": []
  },
  {
   "cell_type": "code",
   "execution_count": 33,
   "metadata": {},
   "outputs": [],
   "source": [
    "joint_x6 = getJointProbabilityDistributions(cpd_x6)\n",
    "\n",
    "joint_x1_x6 =   joint_x6[:4].reset_index(drop=True)\n",
    "joint_x2_x6 =   joint_x6[4:9].reset_index(drop=True)\n",
    "joint_x3_x6 =   joint_x6[9:12].reset_index(drop=True)\n",
    "joint_x4_x6 =   joint_x6[12:16].reset_index(drop=True)\n",
    "\n",
    "joint_x1_x6.loc[4]=0\n",
    "joint_x3_x6.loc[3]=0\n",
    "joint_x3_x6.loc[4]=0\n",
    "joint_x4_x6.loc[4]=0"
   ]
  },
  {
   "cell_type": "code",
   "execution_count": 34,
   "metadata": {},
   "outputs": [],
   "source": [
    "prod_x1_x6 = getProduct('x6 (Shape of t)','x1 (Relative height to t to h)')\n",
    "prod_x2_x6 = getProduct('x6 (Shape of t)','x2 (Shape of h loop)')\n",
    "prod_x3_x6 = getProduct('x6 (Shape of t)','x3 (Shape of h arch)')\n",
    "prod_x4_x6 = getProduct('x6 (Shape of t)','x4 (Height of Cross )')\n"
   ]
  },
  {
   "cell_type": "code",
   "execution_count": 35,
   "metadata": {},
   "outputs": [],
   "source": [
    "diff_x1_x6 = np.abs(joint_x1_x6 - prod_x1_x6.T)\n",
    "diff_x2_x6 = np.abs(joint_x2_x6 - prod_x2_x6.T)\n",
    "diff_x3_x6 = np.abs(joint_x3_x6 - prod_x3_x6.T)\n",
    "diff_x4_x6 = np.abs(joint_x4_x6 - prod_x4_x6.T)\n",
    "\n"
   ]
  },
  {
   "cell_type": "code",
   "execution_count": 36,
   "metadata": {},
   "outputs": [
    {
     "name": "stdout",
     "output_type": "stream",
     "text": [
      "0.16036999999999996\n",
      "0.17531500000000003\n",
      "0.13903000000000004\n",
      "0.14307000000000003\n"
     ]
    }
   ],
   "source": [
    "print(diff_x1_x6.values.sum())\n",
    "print(diff_x2_x6.values.sum())\n",
    "print(diff_x3_x6.values.sum())\n",
    "print(diff_x4_x6.values.sum())\n"
   ]
  },
  {
   "cell_type": "markdown",
   "metadata": {},
   "source": [
    "# TASK 2"
   ]
  },
  {
   "cell_type": "code",
   "execution_count": 37,
   "metadata": {},
   "outputs": [],
   "source": [
    "# Significance Level = 0.12\n",
    "\n",
    "from pgmpy.models.BayesianModel import BayesianModel\n",
    "from pgmpy.factors.discrete import TabularCPD\n",
    "from pgmpy.sampling import BayesianModelSampling\n",
    "from pgmpy.estimators import K2Score"
   ]
  },
  {
   "cell_type": "code",
   "execution_count": 38,
   "metadata": {},
   "outputs": [],
   "source": [
    "writerModel1 = BayesianModel([ ('x6', 'x1'),('x6', 'x4'),('x3', 'x6'),('x2', 'x3')\n",
    "                             ,('x5', 'x2')])\n"
   ]
  },
  {
   "cell_type": "code",
   "execution_count": 39,
   "metadata": {},
   "outputs": [
    {
     "data": {
      "text/plain": [
       "NodeView(('x6', 'x1', 'x4', 'x3', 'x2', 'x5'))"
      ]
     },
     "execution_count": 39,
     "metadata": {},
     "output_type": "execute_result"
    }
   ],
   "source": [
    "writerModel1.nodes()"
   ]
  },
  {
   "cell_type": "code",
   "execution_count": 40,
   "metadata": {},
   "outputs": [
    {
     "data": {
      "text/plain": [
       "OutEdgeView([('x6', 'x1'), ('x6', 'x4'), ('x3', 'x6'), ('x2', 'x3'), ('x5', 'x2')])"
      ]
     },
     "execution_count": 40,
     "metadata": {},
     "output_type": "execute_result"
    }
   ],
   "source": [
    "writerModel1.edges()"
   ]
  },
  {
   "cell_type": "code",
   "execution_count": 41,
   "metadata": {},
   "outputs": [],
   "source": [
    "temp5 = marginal['x5 (Baseline of h)']\n",
    "x5 = TabularCPD('x5', 4, [np.array(temp5[:4])])\n",
    "\n",
    "c5 = cpd_x5.drop(cpd_x5.columns.values[0], 1)\n",
    "temp25 = c5[1:6].reset_index(drop=True)\n",
    "x25 = np.array(temp25)\n",
    "\n",
    "c2 = cpd_x2.drop(cpd_x2.columns.values[0], 1)\n",
    "temp32 = c2[1:4].reset_index(drop=True)\n",
    "x32 = np.array(temp32)\n",
    "\n",
    "c3 = cpd_x3.drop(cpd_x3.columns.values[0], 1)\n",
    "temp63 = c3[10:15].reset_index(drop=True)\n",
    "x63 = np.array(temp63)\n",
    "\n",
    "c6 = cpd_x6.drop(cpd_x6.columns.values[0], 1) \n",
    "temp16 = c6[1:5].reset_index(drop=True)\n",
    "x16 = np.array(temp16)\n",
    "\n",
    "temp46 = c6[13:17].reset_index(drop=True)\n",
    "x46 = np.array(temp46)\n",
    "\n",
    "\n",
    "cpd25 = TabularCPD('x2', temp25.shape[0], x25, ['x5'], [temp25.shape[1]])\n",
    "cpd32 = TabularCPD('x3', temp32.shape[0], x32, ['x2'], [temp32.shape[1]])\n",
    "cpd63 = TabularCPD('x6', temp63.shape[0], x63, ['x3'], [temp63.shape[1]])\n",
    "cpd16 = TabularCPD('x1', temp16.shape[0], x16, ['x6'], [temp16.shape[1]])\n",
    "cpd46 = TabularCPD('x4', temp46.shape[0], x46, ['x6'], [temp46.shape[1]])\n"
   ]
  },
  {
   "cell_type": "code",
   "execution_count": 42,
   "metadata": {},
   "outputs": [
    {
     "name": "stdout",
     "output_type": "stream",
     "text": [
      "+------+-------+\n",
      "| x5_0 | 0.375 |\n",
      "+------+-------+\n",
      "| x5_1 | 0.11  |\n",
      "+------+-------+\n",
      "| x5_2 | 0.105 |\n",
      "+------+-------+\n",
      "| x5_3 | 0.41  |\n",
      "+------+-------+\n",
      "+------+---------------------+---------------------+---------------------+---------------------+\n",
      "| x5   | x5_0                | x5_1                | x5_2                | x5_3                |\n",
      "+------+---------------------+---------------------+---------------------+---------------------+\n",
      "| x2_0 | 0.307               | 0.182               | 0.28600000000000003 | 0.268               |\n",
      "+------+---------------------+---------------------+---------------------+---------------------+\n",
      "| x2_1 | 0.293               | 0.318               | 0.381               | 0.32899999999999996 |\n",
      "+------+---------------------+---------------------+---------------------+---------------------+\n",
      "| x2_2 | 0.04                | 0.091               | 0.0                 | 0.0                 |\n",
      "+------+---------------------+---------------------+---------------------+---------------------+\n",
      "| x2_3 | 0.17300000000000001 | 0.22699999999999998 | 0.19                | 0.146               |\n",
      "+------+---------------------+---------------------+---------------------+---------------------+\n",
      "| x2_4 | 0.182               | 0.182               | 0.14300000000000002 | 0.256               |\n",
      "+------+---------------------+---------------------+---------------------+---------------------+\n",
      "+------+-------+--------------------+------+---------------------+---------------------+\n",
      "| x2   | x2_0  | x2_1               | x2_2 | x2_3                | x2_4                |\n",
      "+------+-------+--------------------+------+---------------------+---------------------+\n",
      "| x3_0 | 0.127 | 0.266              | 0.2  | 0.17600000000000002 | 0.11900000000000001 |\n",
      "+------+-------+--------------------+------+---------------------+---------------------+\n",
      "| x3_1 | 0.745 | 0.6559999999999999 | 0.8  | 0.706               | 0.5                 |\n",
      "+------+-------+--------------------+------+---------------------+---------------------+\n",
      "| x3_2 | 0.127 | 0.078              | 0.0  | 0.11800000000000001 | 0.381               |\n",
      "+------+-------+--------------------+------+---------------------+---------------------+\n",
      "+------+---------------------+-------+-------+\n",
      "| x3   | x3_0                | x3_1  | x3_2  |\n",
      "+------+---------------------+-------+-------+\n",
      "| x6_0 | 0.0                 | 0.023 | 0.0   |\n",
      "+------+---------------------+-------+-------+\n",
      "| x6_1 | 0.389               | 0.318 | 0.25  |\n",
      "+------+---------------------+-------+-------+\n",
      "| x6_2 | 0.083               | 0.152 | 0.156 |\n",
      "+------+---------------------+-------+-------+\n",
      "| x6_3 | 0.361               | 0.303 | 0.313 |\n",
      "+------+---------------------+-------+-------+\n",
      "| x6_4 | 0.16699999999999998 | 0.204 | 0.281 |\n",
      "+------+---------------------+-------+-------+\n",
      "+------+------+-------+----------------------+-------+---------------------+\n",
      "| x6   | x6_0 | x6_1  | x6_2                 | x6_3  | x6_4                |\n",
      "+------+------+-------+----------------------+-------+---------------------+\n",
      "| x1_0 | 1.0  | 0.687 | 0.7140000000000001   | 0.873 | 0.809               |\n",
      "+------+------+-------+----------------------+-------+---------------------+\n",
      "| x1_1 | 0.0  | 0.031 | 0.036000000000000004 | 0.0   | 0.0                 |\n",
      "+------+------+-------+----------------------+-------+---------------------+\n",
      "| x1_2 | 0.0  | 0.094 | 0.036000000000000004 | 0.032 | 0.048               |\n",
      "+------+------+-------+----------------------+-------+---------------------+\n",
      "| x1_3 | 0.0  | 0.187 | 0.214                | 0.095 | 0.14300000000000002 |\n",
      "+------+------+-------+----------------------+-------+---------------------+\n",
      "+------+------+-------+--------------------+-------+-------+\n",
      "| x6   | x6_0 | x6_1  | x6_2               | x6_3  | x6_4  |\n",
      "+------+------+-------+--------------------+-------+-------+\n",
      "| x4_0 | 1.0  | 0.625 | 0.7859999999999999 | 0.746 | 0.738 |\n",
      "+------+------+-------+--------------------+-------+-------+\n",
      "| x4_1 | 0.0  | 0.187 | 0.107              | 0.063 | 0.048 |\n",
      "+------+------+-------+--------------------+-------+-------+\n",
      "| x4_2 | 0.0  | 0.0   | 0.0                | 0.016 | 0.024 |\n",
      "+------+------+-------+--------------------+-------+-------+\n",
      "| x4_3 | 0.0  | 0.187 | 0.107              | 0.175 | 0.19  |\n",
      "+------+------+-------+--------------------+-------+-------+\n"
     ]
    }
   ],
   "source": [
    "tabular_cpds = []\n",
    "\n",
    "tabular_cpds.append(x5)\n",
    "tabular_cpds.append(cpd25)\n",
    "tabular_cpds.append(cpd32)\n",
    "tabular_cpds.append(cpd63)\n",
    "tabular_cpds.append(cpd16)\n",
    "tabular_cpds.append(cpd46)\n",
    "\n",
    "writerModel1.add_cpds(*tabular_cpds)\n",
    "cpds = writerModel1.get_cpds()\n",
    "for cpd in cpds:\n",
    "    print(cpd)"
   ]
  },
  {
   "cell_type": "code",
   "execution_count": 43,
   "metadata": {},
   "outputs": [
    {
     "data": {
      "text/plain": [
       "True"
      ]
     },
     "execution_count": 43,
     "metadata": {},
     "output_type": "execute_result"
    }
   ],
   "source": [
    "\n",
    "writerModel1.check_model()"
   ]
  },
  {
   "cell_type": "code",
   "execution_count": 44,
   "metadata": {},
   "outputs": [],
   "source": [
    "inference = BayesianModelSampling(writerModel1)\n",
    "sampleData = inference.forward_sample(size=1000, return_type='dataframe')\n",
    "\n",
    "#k2 = K2Score(sampleData)\n",
    "#print('Writer Model 1 K2 Score: ' + str(k2.score(writerModel1)))"
   ]
  },
  {
   "cell_type": "markdown",
   "metadata": {},
   "source": [
    "##### Model 2"
   ]
  },
  {
   "cell_type": "code",
   "execution_count": 45,
   "metadata": {},
   "outputs": [],
   "source": [
    "writerModel2 = BayesianModel([ ('x4', 'x6'),('x6', 'x1'),('x6', 'x2'),('x2', 'x3')\n",
    "                             ,('x2', 'x5')])"
   ]
  },
  {
   "cell_type": "code",
   "execution_count": 46,
   "metadata": {},
   "outputs": [
    {
     "name": "stdout",
     "output_type": "stream",
     "text": [
      "+------+-------+\n",
      "| x4_0 | 0.715 |\n",
      "+------+-------+\n",
      "| x4_1 | 0.105 |\n",
      "+------+-------+\n",
      "| x4_2 | 0.01  |\n",
      "+------+-------+\n",
      "| x4_3 | 0.17  |\n",
      "+------+-------+\n",
      "+------+---------------------+---------------------+------+---------------------+\n",
      "| x4   | x4_0                | x4_1                | x4_2 | x4_3                |\n",
      "+------+---------------------+---------------------+------+---------------------+\n",
      "| x6_0 | 0.021               | 0.0                 | 0.0  | 0.0                 |\n",
      "+------+---------------------+---------------------+------+---------------------+\n",
      "| x6_1 | 0.28                | 0.5710000000000001  | 0.0  | 0.353               |\n",
      "+------+---------------------+---------------------+------+---------------------+\n",
      "| x6_2 | 0.154               | 0.14300000000000002 | 0.0  | 0.08800000000000001 |\n",
      "+------+---------------------+---------------------+------+---------------------+\n",
      "| x6_3 | 0.32899999999999996 | 0.19                | 0.5  | 0.32299999999999995 |\n",
      "+------+---------------------+---------------------+------+---------------------+\n",
      "| x6_4 | 0.217               | 0.095               | 0.5  | 0.235               |\n",
      "+------+---------------------+---------------------+------+---------------------+\n",
      "+------+------+-------+----------------------+-------+---------------------+\n",
      "| x6   | x6_0 | x6_1  | x6_2                 | x6_3  | x6_4                |\n",
      "+------+------+-------+----------------------+-------+---------------------+\n",
      "| x1_0 | 1.0  | 0.687 | 0.7140000000000001   | 0.873 | 0.809               |\n",
      "+------+------+-------+----------------------+-------+---------------------+\n",
      "| x1_1 | 0.0  | 0.031 | 0.036000000000000004 | 0.0   | 0.0                 |\n",
      "+------+------+-------+----------------------+-------+---------------------+\n",
      "| x1_2 | 0.0  | 0.094 | 0.036000000000000004 | 0.032 | 0.048               |\n",
      "+------+------+-------+----------------------+-------+---------------------+\n",
      "| x1_3 | 0.0  | 0.187 | 0.214                | 0.095 | 0.14300000000000002 |\n",
      "+------+------+-------+----------------------+-------+---------------------+\n",
      "+------+---------------------+---------------------+-------+-------+---------------------+\n",
      "| x6   | x6_0                | x6_1                | x6_2  | x6_3  | x6_4                |\n",
      "+------+---------------------+---------------------+-------+-------+---------------------+\n",
      "| x2_0 | 0.0                 | 0.281               | 0.214 | 0.317 | 0.262               |\n",
      "+------+---------------------+---------------------+-------+-------+---------------------+\n",
      "| x2_1 | 0.33299999999999996 | 0.29600000000000004 | 0.392 | 0.317 | 0.309               |\n",
      "+------+---------------------+---------------------+-------+-------+---------------------+\n",
      "| x2_2 | 0.0                 | 0.0                 | 0.0   | 0.079 | 0.0                 |\n",
      "+------+---------------------+---------------------+-------+-------+---------------------+\n",
      "| x2_3 | 0.6659999999999999  | 0.23399999999999999 | 0.142 | 0.095 | 0.16699999999999998 |\n",
      "+------+---------------------+---------------------+-------+-------+---------------------+\n",
      "| x2_4 | 0.0                 | 0.187               | 0.25  | 0.19  | 0.262               |\n",
      "+------+---------------------+---------------------+-------+-------+---------------------+\n",
      "+------+-------+--------------------+------+---------------------+---------------------+\n",
      "| x2   | x2_0  | x2_1               | x2_2 | x2_3                | x2_4                |\n",
      "+------+-------+--------------------+------+---------------------+---------------------+\n",
      "| x3_0 | 0.127 | 0.266              | 0.2  | 0.17600000000000002 | 0.11900000000000001 |\n",
      "+------+-------+--------------------+------+---------------------+---------------------+\n",
      "| x3_1 | 0.745 | 0.6559999999999999 | 0.8  | 0.706               | 0.5                 |\n",
      "+------+-------+--------------------+------+---------------------+---------------------+\n",
      "| x3_2 | 0.127 | 0.078              | 0.0  | 0.11800000000000001 | 0.381               |\n",
      "+------+-------+--------------------+------+---------------------+---------------------+\n",
      "+------+-------+---------------------+------+---------------------+---------------------+\n",
      "| x2   | x2_0  | x2_1                | x2_2 | x2_3                | x2_4                |\n",
      "+------+-------+---------------------+------+---------------------+---------------------+\n",
      "| x5_0 | 0.418 | 0.33399999999999996 | 0.6  | 0.382               | 0.33399999999999996 |\n",
      "+------+-------+---------------------+------+---------------------+---------------------+\n",
      "| x5_1 | 0.073 | 0.109               | 0.4  | 0.147               | 0.095               |\n",
      "+------+-------+---------------------+------+---------------------+---------------------+\n",
      "| x5_2 | 0.109 | 0.125               | 0.0  | 0.11800000000000001 | 0.071               |\n",
      "+------+-------+---------------------+------+---------------------+---------------------+\n",
      "| x5_3 | 0.4   | 0.42200000000000004 | 0.0  | 0.353               | 0.5                 |\n",
      "+------+-------+---------------------+------+---------------------+---------------------+\n"
     ]
    }
   ],
   "source": [
    "temp4 = marginal['x4 (Height of Cross )']\n",
    "x4 = TabularCPD('x4', 4, [np.array(temp4[:4])])\n",
    "\n",
    "c4 = cpd_x4.drop(cpd_x4.columns.values[0], 1)\n",
    "temp64 = c4[10:15].reset_index(drop=True)\n",
    "x64 = np.array(temp64)\n",
    "\n",
    "c6 = cpd_x6.drop(cpd_x6.columns.values[0], 1) \n",
    "temp16 = c6[1:5].reset_index(drop=True)\n",
    "x16 = np.array(temp16)\n",
    "\n",
    "temp26 = c6[5:10].reset_index(drop=True)\n",
    "x26 = np.array(temp26)\n",
    "\n",
    "c2 = cpd_x2.drop(cpd_x2.columns.values[0], 1)\n",
    "temp32 = c2[1:4].reset_index(drop=True)\n",
    "x32 = np.array(temp32)\n",
    "\n",
    "temp52 = c2[4:8].reset_index(drop=True)\n",
    "x52 = np.array(temp52)\n",
    "\n",
    "\n",
    "cpd64 = TabularCPD('x6', temp64.shape[0], x64, ['x4'], [temp64.shape[1]])\n",
    "cpd16 = TabularCPD('x1', temp16.shape[0], x16, ['x6'], [temp16.shape[1]])\n",
    "cpd26 = TabularCPD('x2', temp26.shape[0], x26, ['x6'], [temp26.shape[1]])\n",
    "cpd32 = TabularCPD('x3', temp32.shape[0], x32, ['x2'], [temp32.shape[1]])\n",
    "cpd52 = TabularCPD('x5', temp52.shape[0], x52, ['x2'], [temp52.shape[1]])\n",
    "\n",
    "\n",
    "tabular_cpds = []\n",
    "\n",
    "tabular_cpds.append(x4)\n",
    "tabular_cpds.append(cpd64)\n",
    "tabular_cpds.append(cpd16)\n",
    "tabular_cpds.append(cpd26)\n",
    "tabular_cpds.append(cpd32)\n",
    "tabular_cpds.append(cpd52)\n",
    "\n",
    "writerModel2.add_cpds(*tabular_cpds)\n",
    "cpds = writerModel2.get_cpds()\n",
    "for cpd in cpds:\n",
    "    print(cpd)"
   ]
  },
  {
   "cell_type": "code",
   "execution_count": 47,
   "metadata": {},
   "outputs": [
    {
     "data": {
      "text/plain": [
       "True"
      ]
     },
     "execution_count": 47,
     "metadata": {},
     "output_type": "execute_result"
    }
   ],
   "source": [
    "writerModel2.check_model()"
   ]
  },
  {
   "cell_type": "code",
   "execution_count": 48,
   "metadata": {},
   "outputs": [
    {
     "name": "stderr",
     "output_type": "stream",
     "text": [
      "/anaconda3/envs/ML_Tensor_Keras/lib/python3.6/site-packages/pandas/core/frame.py:6211: FutureWarning: Sorting because non-concatenation axis is not aligned. A future version\n",
      "of pandas will change to not sort by default.\n",
      "\n",
      "To accept the future behavior, pass 'sort=False'.\n",
      "\n",
      "To retain the current behavior and silence the warning, pass 'sort=True'.\n",
      "\n",
      "  sort=sort)\n"
     ]
    }
   ],
   "source": [
    "inference = BayesianModelSampling(writerModel2)\n",
    "sampleData2 = inference.forward_sample(size=1000, return_type='dataframe')\n",
    "sampleData = sampleData.append(sampleData2,ignore_index=True)\n",
    "\n",
    "#k2 = K2Score(sampleData)\n",
    "#print('Writer Model 2 K2 Score: ' + str(k2.score(writerModel2)))"
   ]
  },
  {
   "cell_type": "markdown",
   "metadata": {},
   "source": [
    "##### Model 3"
   ]
  },
  {
   "cell_type": "code",
   "execution_count": 49,
   "metadata": {},
   "outputs": [],
   "source": [
    "writerModel3 = BayesianModel([ ('x4', 'x6'),('x4', 'x1'),('x1', 'x2'),('x2', 'x5')\n",
    "                             ,('x6', 'x3')])"
   ]
  },
  {
   "cell_type": "code",
   "execution_count": 50,
   "metadata": {},
   "outputs": [
    {
     "name": "stdout",
     "output_type": "stream",
     "text": [
      "+------+-------+\n",
      "| x4_0 | 0.715 |\n",
      "+------+-------+\n",
      "| x4_1 | 0.105 |\n",
      "+------+-------+\n",
      "| x4_2 | 0.01  |\n",
      "+------+-------+\n",
      "| x4_3 | 0.17  |\n",
      "+------+-------+\n",
      "+------+---------------------+---------------------+------+---------------------+\n",
      "| x4   | x4_0                | x4_1                | x4_2 | x4_3                |\n",
      "+------+---------------------+---------------------+------+---------------------+\n",
      "| x6_0 | 0.021               | 0.0                 | 0.0  | 0.0                 |\n",
      "+------+---------------------+---------------------+------+---------------------+\n",
      "| x6_1 | 0.28                | 0.5710000000000001  | 0.0  | 0.353               |\n",
      "+------+---------------------+---------------------+------+---------------------+\n",
      "| x6_2 | 0.154               | 0.14300000000000002 | 0.0  | 0.08800000000000001 |\n",
      "+------+---------------------+---------------------+------+---------------------+\n",
      "| x6_3 | 0.32899999999999996 | 0.19                | 0.5  | 0.32299999999999995 |\n",
      "+------+---------------------+---------------------+------+---------------------+\n",
      "| x6_4 | 0.217               | 0.095               | 0.5  | 0.235               |\n",
      "+------+---------------------+---------------------+------+---------------------+\n",
      "+------+----------------------+---------------------+------+---------------------+\n",
      "| x4   | x4_0                 | x4_1                | x4_2 | x4_3                |\n",
      "+------+----------------------+---------------------+------+---------------------+\n",
      "| x1_0 | 0.804                | 0.5710000000000001  | 1.0  | 0.794               |\n",
      "+------+----------------------+---------------------+------+---------------------+\n",
      "| x1_1 | 0.021                | 0.0                 | 0.0  | 0.0                 |\n",
      "+------+----------------------+---------------------+------+---------------------+\n",
      "| x1_2 | 0.055999999999999994 | 0.14300000000000002 | 0.0  | 0.0                 |\n",
      "+------+----------------------+---------------------+------+---------------------+\n",
      "| x1_3 | 0.11900000000000001  | 0.28600000000000003 | 0.0  | 0.20600000000000002 |\n",
      "+------+----------------------+---------------------+------+---------------------+\n",
      "+------+---------------------+-------+----------------------+--------------------+---------------------+\n",
      "| x6   | x6_0                | x6_1  | x6_2                 | x6_3               | x6_4                |\n",
      "+------+---------------------+-------+----------------------+--------------------+---------------------+\n",
      "| x3_0 | 0.17300000000000001 | 0.136 | 0.381                | 0.146              | 0.14300000000000002 |\n",
      "+------+---------------------+-------+----------------------+--------------------+---------------------+\n",
      "| x3_1 | 0.693               | 0.682 | 0.5710000000000001   | 0.6459999999999999 | 0.643               |\n",
      "+------+---------------------+-------+----------------------+--------------------+---------------------+\n",
      "| x3_2 | 0.133               | 0.182 | 0.040999999999999995 | 0.207              | 0.214               |\n",
      "+------+---------------------+-------+----------------------+--------------------+---------------------+\n",
      "+------+----------------------+---------------------+-------+---------------------+\n",
      "| x1   | x1_0                 | x1_1                | x1_2  | x1_3                |\n",
      "+------+----------------------+---------------------+-------+---------------------+\n",
      "| x2_0 | 0.231                | 0.6659999999999999  | 0.455 | 0.4                 |\n",
      "+------+----------------------+---------------------+-------+---------------------+\n",
      "| x2_1 | 0.365                | 0.0                 | 0.091 | 0.2                 |\n",
      "+------+----------------------+---------------------+-------+---------------------+\n",
      "| x2_2 | 0.026000000000000002 | 0.0                 | 0.0   | 0.033               |\n",
      "+------+----------------------+---------------------+-------+---------------------+\n",
      "| x2_3 | 0.17300000000000001  | 0.0                 | 0.182 | 0.16699999999999998 |\n",
      "+------+----------------------+---------------------+-------+---------------------+\n",
      "| x2_4 | 0.205                | 0.33299999999999996 | 0.273 | 0.2                 |\n",
      "+------+----------------------+---------------------+-------+---------------------+\n",
      "+------+-------+---------------------+------+---------------------+---------------------+\n",
      "| x2   | x2_0  | x2_1                | x2_2 | x2_3                | x2_4                |\n",
      "+------+-------+---------------------+------+---------------------+---------------------+\n",
      "| x5_0 | 0.418 | 0.33399999999999996 | 0.6  | 0.382               | 0.33399999999999996 |\n",
      "+------+-------+---------------------+------+---------------------+---------------------+\n",
      "| x5_1 | 0.073 | 0.109               | 0.4  | 0.147               | 0.095               |\n",
      "+------+-------+---------------------+------+---------------------+---------------------+\n",
      "| x5_2 | 0.109 | 0.125               | 0.0  | 0.11800000000000001 | 0.071               |\n",
      "+------+-------+---------------------+------+---------------------+---------------------+\n",
      "| x5_3 | 0.4   | 0.42200000000000004 | 0.0  | 0.353               | 0.5                 |\n",
      "+------+-------+---------------------+------+---------------------+---------------------+\n"
     ]
    }
   ],
   "source": [
    "temp4 = marginal['x4 (Height of Cross )']\n",
    "x4 = TabularCPD('x4', 4, [np.array(temp4[:4])])\n",
    "\n",
    "c4 = cpd_x4.drop(cpd_x4.columns.values[0], 1)\n",
    "temp64 = c4[10:15].reset_index(drop=True)\n",
    "x64 = np.array(temp64)\n",
    "\n",
    "\n",
    "temp14 = c4[1:5].reset_index(drop=True)\n",
    "x14 = np.array(temp14)\n",
    "\n",
    "\n",
    "c6 = cpd_x6.drop(cpd_x6.columns.values[0], 1) \n",
    "temp36 = c6[10:13].reset_index(drop=True)\n",
    "x36 = np.array(temp36)\n",
    "\n",
    "c1 = cpd_x1.drop(cpd_x1.columns.values[0], 1)\n",
    "temp21 = c1[1:6].reset_index(drop=True)\n",
    "x21 = np.array(temp21)\n",
    "\n",
    "\n",
    "c2 = cpd_x2.drop(cpd_x2.columns.values[0], 1)\n",
    "temp52 = c2[4:8].reset_index(drop=True)\n",
    "x52 = np.array(temp52)\n",
    "\n",
    "\n",
    "cpd64 = TabularCPD('x6', temp64.shape[0], x64, ['x4'], [temp64.shape[1]])\n",
    "cpd14 = TabularCPD('x1', temp14.shape[0], x14, ['x4'], [temp14.shape[1]])\n",
    "cpd36 = TabularCPD('x3', temp36.shape[0], x36, ['x6'], [temp36.shape[1]])\n",
    "cpd21 = TabularCPD('x2', temp21.shape[0], x21, ['x1'], [temp21.shape[1]])\n",
    "cpd52 = TabularCPD('x5', temp52.shape[0], x52, ['x2'], [temp52.shape[1]])\n",
    "\n",
    "\n",
    "tabular_cpds = []\n",
    "\n",
    "tabular_cpds.append(x4)\n",
    "tabular_cpds.append(cpd64)\n",
    "tabular_cpds.append(cpd14)\n",
    "tabular_cpds.append(cpd36)\n",
    "tabular_cpds.append(cpd21)\n",
    "tabular_cpds.append(cpd52)\n",
    "\n",
    "writerModel3.add_cpds(*tabular_cpds)\n",
    "cpds = writerModel3.get_cpds()\n",
    "for cpd in cpds:\n",
    "    print(cpd)"
   ]
  },
  {
   "cell_type": "code",
   "execution_count": 51,
   "metadata": {},
   "outputs": [
    {
     "data": {
      "text/plain": [
       "True"
      ]
     },
     "execution_count": 51,
     "metadata": {},
     "output_type": "execute_result"
    }
   ],
   "source": [
    "writerModel3.check_model()"
   ]
  },
  {
   "cell_type": "code",
   "execution_count": 52,
   "metadata": {},
   "outputs": [
    {
     "name": "stderr",
     "output_type": "stream",
     "text": [
      "/anaconda3/envs/ML_Tensor_Keras/lib/python3.6/site-packages/pandas/core/frame.py:6211: FutureWarning: Sorting because non-concatenation axis is not aligned. A future version\n",
      "of pandas will change to not sort by default.\n",
      "\n",
      "To accept the future behavior, pass 'sort=False'.\n",
      "\n",
      "To retain the current behavior and silence the warning, pass 'sort=True'.\n",
      "\n",
      "  sort=sort)\n"
     ]
    }
   ],
   "source": [
    "inference = BayesianModelSampling(writerModel3)\n",
    "sampleData3 = inference.forward_sample(size=1000, return_type='dataframe')\n",
    "\n",
    "sampleData = sampleData.append(sampleData3,ignore_index=True)\n",
    "\n",
    "#k2 = K2Score(sampleData)\n",
    "#print('Writer Model 3 K2 Score: ' + str(k2.score(writerModel3)))\n"
   ]
  },
  {
   "cell_type": "code",
   "execution_count": 53,
   "metadata": {},
   "outputs": [],
   "source": [
    "#sampleData = inference.forward_sample(size=1000, return_type='recarray')\n",
    "\n"
   ]
  },
  {
   "cell_type": "code",
   "execution_count": null,
   "metadata": {},
   "outputs": [],
   "source": []
  },
  {
   "cell_type": "markdown",
   "metadata": {},
   "source": [
    "##### Model 4"
   ]
  },
  {
   "cell_type": "code",
   "execution_count": 54,
   "metadata": {},
   "outputs": [],
   "source": [
    "writerModel4 = BayesianModel([ ('x3', 'x6'),('x3', 'x2'),('x2', 'x5'),('x6', 'x1')\n",
    "                             ,('x6', 'x4')])"
   ]
  },
  {
   "cell_type": "code",
   "execution_count": 55,
   "metadata": {},
   "outputs": [
    {
     "name": "stdout",
     "output_type": "stream",
     "text": [
      "+------+------+\n",
      "| x3_0 | 0.18 |\n",
      "+------+------+\n",
      "| x3_1 | 0.66 |\n",
      "+------+------+\n",
      "| x3_2 | 0.16 |\n",
      "+------+------+\n",
      "+------+---------------------+-------+-------+\n",
      "| x3   | x3_0                | x3_1  | x3_2  |\n",
      "+------+---------------------+-------+-------+\n",
      "| x6_0 | 0.0                 | 0.023 | 0.0   |\n",
      "+------+---------------------+-------+-------+\n",
      "| x6_1 | 0.389               | 0.318 | 0.25  |\n",
      "+------+---------------------+-------+-------+\n",
      "| x6_2 | 0.083               | 0.152 | 0.156 |\n",
      "+------+---------------------+-------+-------+\n",
      "| x6_3 | 0.361               | 0.303 | 0.313 |\n",
      "+------+---------------------+-------+-------+\n",
      "| x6_4 | 0.16699999999999998 | 0.204 | 0.281 |\n",
      "+------+---------------------+-------+-------+\n",
      "+------+----------------------+----------------------+---------------------+\n",
      "| x3   | x3_0                 | x3_1                 | x3_2                |\n",
      "+------+----------------------+----------------------+---------------------+\n",
      "| x2_0 | 0.19399999999999998  | 0.311                | 0.21899999999999997 |\n",
      "+------+----------------------+----------------------+---------------------+\n",
      "| x2_1 | 0.47200000000000003  | 0.318                | 0.156               |\n",
      "+------+----------------------+----------------------+---------------------+\n",
      "| x2_2 | 0.027999999999999997 | 0.030299999999999997 | 0.0                 |\n",
      "+------+----------------------+----------------------+---------------------+\n",
      "| x2_3 | 0.16699999999999998  | 0.182                | 0.125               |\n",
      "+------+----------------------+----------------------+---------------------+\n",
      "| x2_4 | 0.139                | 0.159                | 0.5                 |\n",
      "+------+----------------------+----------------------+---------------------+\n",
      "+------+-------+---------------------+------+---------------------+---------------------+\n",
      "| x2   | x2_0  | x2_1                | x2_2 | x2_3                | x2_4                |\n",
      "+------+-------+---------------------+------+---------------------+---------------------+\n",
      "| x5_0 | 0.418 | 0.33399999999999996 | 0.6  | 0.382               | 0.33399999999999996 |\n",
      "+------+-------+---------------------+------+---------------------+---------------------+\n",
      "| x5_1 | 0.073 | 0.109               | 0.4  | 0.147               | 0.095               |\n",
      "+------+-------+---------------------+------+---------------------+---------------------+\n",
      "| x5_2 | 0.109 | 0.125               | 0.0  | 0.11800000000000001 | 0.071               |\n",
      "+------+-------+---------------------+------+---------------------+---------------------+\n",
      "| x5_3 | 0.4   | 0.42200000000000004 | 0.0  | 0.353               | 0.5                 |\n",
      "+------+-------+---------------------+------+---------------------+---------------------+\n",
      "+------+------+-------+----------------------+-------+---------------------+\n",
      "| x6   | x6_0 | x6_1  | x6_2                 | x6_3  | x6_4                |\n",
      "+------+------+-------+----------------------+-------+---------------------+\n",
      "| x1_0 | 1.0  | 0.687 | 0.7140000000000001   | 0.873 | 0.809               |\n",
      "+------+------+-------+----------------------+-------+---------------------+\n",
      "| x1_1 | 0.0  | 0.031 | 0.036000000000000004 | 0.0   | 0.0                 |\n",
      "+------+------+-------+----------------------+-------+---------------------+\n",
      "| x1_2 | 0.0  | 0.094 | 0.036000000000000004 | 0.032 | 0.048               |\n",
      "+------+------+-------+----------------------+-------+---------------------+\n",
      "| x1_3 | 0.0  | 0.187 | 0.214                | 0.095 | 0.14300000000000002 |\n",
      "+------+------+-------+----------------------+-------+---------------------+\n",
      "+------+------+-------+--------------------+-------+-------+\n",
      "| x6   | x6_0 | x6_1  | x6_2               | x6_3  | x6_4  |\n",
      "+------+------+-------+--------------------+-------+-------+\n",
      "| x4_0 | 1.0  | 0.625 | 0.7859999999999999 | 0.746 | 0.738 |\n",
      "+------+------+-------+--------------------+-------+-------+\n",
      "| x4_1 | 0.0  | 0.187 | 0.107              | 0.063 | 0.048 |\n",
      "+------+------+-------+--------------------+-------+-------+\n",
      "| x4_2 | 0.0  | 0.0   | 0.0                | 0.016 | 0.024 |\n",
      "+------+------+-------+--------------------+-------+-------+\n",
      "| x4_3 | 0.0  | 0.187 | 0.107              | 0.175 | 0.19  |\n",
      "+------+------+-------+--------------------+-------+-------+\n"
     ]
    }
   ],
   "source": [
    "temp3 = marginal['x3 (Shape of h arch)']\n",
    "x3 = TabularCPD('x3', 3, [np.array(temp3[:3])])\n",
    "\n",
    "c3 = cpd_x3.drop(cpd_x3.columns.values[0], 1)\n",
    "temp63 = c3[10:15].reset_index(drop=True)\n",
    "x63 = np.array(temp63)\n",
    "\n",
    "temp23 = c3[1:6].reset_index(drop=True)\n",
    "x23 = np.array(temp23)\n",
    "\n",
    "\n",
    "c2 = cpd_x2.drop(cpd_x2.columns.values[0], 1)\n",
    "temp52 = c2[4:8].reset_index(drop=True)\n",
    "x52 = np.array(temp52)\n",
    "\n",
    "\n",
    "c6 = cpd_x6.drop(cpd_x6.columns.values[0], 1) \n",
    "temp16 = c6[1:5].reset_index(drop=True)\n",
    "x16 = np.array(temp16)\n",
    "\n",
    "\n",
    "\n",
    "temp46 = c6[13:17].reset_index(drop=True)\n",
    "x46 = np.array(temp46)\n",
    "\n",
    "\n",
    "cpd63 = TabularCPD('x6', temp63.shape[0], x63, ['x3'], [temp63.shape[1]])\n",
    "cpd23 = TabularCPD('x2', temp23.shape[0], x23, ['x3'], [temp23.shape[1]])\n",
    "cpd52 = TabularCPD('x5', temp52.shape[0], x52, ['x2'], [temp52.shape[1]])\n",
    "cpd16 = TabularCPD('x1', temp16.shape[0], x16, ['x6'], [temp16.shape[1]])\n",
    "cpd46 = TabularCPD('x4', temp46.shape[0], x46, ['x6'], [temp46.shape[1]])\n",
    "\n",
    "\n",
    "\n",
    "\n",
    "\n",
    "\n",
    "tabular_cpds = []\n",
    "\n",
    "tabular_cpds.append(x3)\n",
    "\n",
    "tabular_cpds.append(cpd63)\n",
    "tabular_cpds.append(cpd23)\n",
    "tabular_cpds.append(cpd52)\n",
    "tabular_cpds.append(cpd16)\n",
    "tabular_cpds.append(cpd46)\n",
    "\n",
    "writerModel4.add_cpds(*tabular_cpds)\n",
    "cpds = writerModel4.get_cpds()\n",
    "for cpd in cpds:\n",
    "    print(cpd)"
   ]
  },
  {
   "cell_type": "code",
   "execution_count": 56,
   "metadata": {},
   "outputs": [
    {
     "name": "stderr",
     "output_type": "stream",
     "text": [
      "/anaconda3/envs/ML_Tensor_Keras/lib/python3.6/site-packages/pandas/core/frame.py:6211: FutureWarning: Sorting because non-concatenation axis is not aligned. A future version\n",
      "of pandas will change to not sort by default.\n",
      "\n",
      "To accept the future behavior, pass 'sort=False'.\n",
      "\n",
      "To retain the current behavior and silence the warning, pass 'sort=True'.\n",
      "\n",
      "  sort=sort)\n"
     ]
    }
   ],
   "source": [
    "inference = BayesianModelSampling(writerModel4)\n",
    "sampleData4 = inference.forward_sample(size=1000, return_type='dataframe')\n",
    "sampleData = sampleData.append(sampleData4,ignore_index=True)"
   ]
  },
  {
   "cell_type": "code",
   "execution_count": null,
   "metadata": {},
   "outputs": [],
   "source": []
  },
  {
   "cell_type": "code",
   "execution_count": null,
   "metadata": {},
   "outputs": [],
   "source": []
  },
  {
   "cell_type": "code",
   "execution_count": null,
   "metadata": {},
   "outputs": [],
   "source": []
  },
  {
   "cell_type": "code",
   "execution_count": null,
   "metadata": {},
   "outputs": [],
   "source": []
  },
  {
   "cell_type": "code",
   "execution_count": null,
   "metadata": {},
   "outputs": [],
   "source": []
  },
  {
   "cell_type": "markdown",
   "metadata": {},
   "source": [
    "#### Model 5"
   ]
  },
  {
   "cell_type": "code",
   "execution_count": 57,
   "metadata": {},
   "outputs": [],
   "source": [
    "writerModel5 = BayesianModel([ ('x6', 'x4'),('x6', 'x1'),('x6', 'x3'),('x3', 'x2')\n",
    "                             ,('x3', 'x5')])"
   ]
  },
  {
   "cell_type": "code",
   "execution_count": 58,
   "metadata": {},
   "outputs": [
    {
     "name": "stdout",
     "output_type": "stream",
     "text": [
      "+------+-------+\n",
      "| x6_0 | 0.375 |\n",
      "+------+-------+\n",
      "| x6_1 | 0.11  |\n",
      "+------+-------+\n",
      "| x6_2 | 0.105 |\n",
      "+------+-------+\n",
      "| x6_3 | 0.41  |\n",
      "+------+-------+\n",
      "| x6_4 | 0     |\n",
      "+------+-------+\n",
      "+------+------+-------+----------------------+-------+---------------------+\n",
      "| x6   | x6_0 | x6_1  | x6_2                 | x6_3  | x6_4                |\n",
      "+------+------+-------+----------------------+-------+---------------------+\n",
      "| x1_0 | 1.0  | 0.687 | 0.7140000000000001   | 0.873 | 0.809               |\n",
      "+------+------+-------+----------------------+-------+---------------------+\n",
      "| x1_1 | 0.0  | 0.031 | 0.036000000000000004 | 0.0   | 0.0                 |\n",
      "+------+------+-------+----------------------+-------+---------------------+\n",
      "| x1_2 | 0.0  | 0.094 | 0.036000000000000004 | 0.032 | 0.048               |\n",
      "+------+------+-------+----------------------+-------+---------------------+\n",
      "| x1_3 | 0.0  | 0.187 | 0.214                | 0.095 | 0.14300000000000002 |\n",
      "+------+------+-------+----------------------+-------+---------------------+\n",
      "+------+------+-------+--------------------+-------+-------+\n",
      "| x6   | x6_0 | x6_1  | x6_2               | x6_3  | x6_4  |\n",
      "+------+------+-------+--------------------+-------+-------+\n",
      "| x4_0 | 1.0  | 0.625 | 0.7859999999999999 | 0.746 | 0.738 |\n",
      "+------+------+-------+--------------------+-------+-------+\n",
      "| x4_1 | 0.0  | 0.187 | 0.107              | 0.063 | 0.048 |\n",
      "+------+------+-------+--------------------+-------+-------+\n",
      "| x4_2 | 0.0  | 0.0   | 0.0                | 0.016 | 0.024 |\n",
      "+------+------+-------+--------------------+-------+-------+\n",
      "| x4_3 | 0.0  | 0.187 | 0.107              | 0.175 | 0.19  |\n",
      "+------+------+-------+--------------------+-------+-------+\n",
      "+------+---------------------+-------+----------------------+--------------------+---------------------+\n",
      "| x6   | x6_0                | x6_1  | x6_2                 | x6_3               | x6_4                |\n",
      "+------+---------------------+-------+----------------------+--------------------+---------------------+\n",
      "| x3_0 | 0.17300000000000001 | 0.136 | 0.381                | 0.146              | 0.14300000000000002 |\n",
      "+------+---------------------+-------+----------------------+--------------------+---------------------+\n",
      "| x3_1 | 0.693               | 0.682 | 0.5710000000000001   | 0.6459999999999999 | 0.643               |\n",
      "+------+---------------------+-------+----------------------+--------------------+---------------------+\n",
      "| x3_2 | 0.133               | 0.182 | 0.040999999999999995 | 0.207              | 0.214               |\n",
      "+------+---------------------+-------+----------------------+--------------------+---------------------+\n",
      "+------+----------------------+----------------------+---------------------+\n",
      "| x3   | x3_0                 | x3_1                 | x3_2                |\n",
      "+------+----------------------+----------------------+---------------------+\n",
      "| x2_0 | 0.19399999999999998  | 0.311                | 0.21899999999999997 |\n",
      "+------+----------------------+----------------------+---------------------+\n",
      "| x2_1 | 0.47200000000000003  | 0.318                | 0.156               |\n",
      "+------+----------------------+----------------------+---------------------+\n",
      "| x2_2 | 0.027999999999999997 | 0.030299999999999997 | 0.0                 |\n",
      "+------+----------------------+----------------------+---------------------+\n",
      "| x2_3 | 0.16699999999999998  | 0.182                | 0.125               |\n",
      "+------+----------------------+----------------------+---------------------+\n",
      "| x2_4 | 0.139                | 0.159                | 0.5                 |\n",
      "+------+----------------------+----------------------+---------------------+\n",
      "+------+---------------------+---------------------+-------+\n",
      "| x3   | x3_0                | x3_1                | x3_2  |\n",
      "+------+---------------------+---------------------+-------+\n",
      "| x5_0 | 0.361               | 0.39399999999999996 | 0.313 |\n",
      "+------+---------------------+---------------------+-------+\n",
      "| x5_1 | 0.083               | 0.114               | 0.125 |\n",
      "+------+---------------------+---------------------+-------+\n",
      "| x5_2 | 0.222               | 0.091               | 0.031 |\n",
      "+------+---------------------+---------------------+-------+\n",
      "| x5_3 | 0.33299999999999996 | 0.402               | 0.531 |\n",
      "+------+---------------------+---------------------+-------+\n"
     ]
    }
   ],
   "source": [
    "temp6 = marginal['x6 (Shape of t)']\n",
    "x6 = TabularCPD('x6', 5, [np.array(temp5)])\n",
    "\n",
    "\n",
    "c6 = cpd_x6.drop(cpd_x6.columns.values[0], 1) \n",
    "temp16 = c6[1:5].reset_index(drop=True)\n",
    "x16 = np.array(temp16)\n",
    "\n",
    "\n",
    "temp46 = c6[13:17].reset_index(drop=True)\n",
    "x46 = np.array(temp46)\n",
    "\n",
    "temp36 = c6[10:13].reset_index(drop=True)\n",
    "x36 = np.array(temp36)\n",
    "\n",
    "\n",
    "c3 = cpd_x3.drop(cpd_x3.columns.values[0], 1)\n",
    "temp23 = c3[1:6].reset_index(drop=True)\n",
    "x23 = np.array(temp23)\n",
    "\n",
    "temp53 = c3[6:10].reset_index(drop=True)\n",
    "x53 = np.array(temp53)\n",
    "\n",
    "\n",
    "cpd16 = TabularCPD('x1', temp16.shape[0], x16, ['x6'], [temp16.shape[1]])\n",
    "cpd46 = TabularCPD('x4', temp46.shape[0], x46, ['x6'], [temp46.shape[1]])\n",
    "cpd36 = TabularCPD('x3', temp36.shape[0], x36, ['x6'], [temp36.shape[1]])\n",
    "cpd23 = TabularCPD('x2', temp23.shape[0], x23, ['x3'], [temp23.shape[1]])\n",
    "cpd53 = TabularCPD('x5', temp53.shape[0], x53, ['x3'], [temp53.shape[1]])\n",
    "\n",
    "\n",
    "tabular_cpds = []\n",
    "\n",
    "tabular_cpds.append(x6)\n",
    "tabular_cpds.append(cpd16)\n",
    "tabular_cpds.append(cpd46)\n",
    "tabular_cpds.append(cpd36)\n",
    "tabular_cpds.append(cpd23)\n",
    "tabular_cpds.append(cpd53)\n",
    "\n",
    "writerModel5.add_cpds(*tabular_cpds)\n",
    "cpds = writerModel5.get_cpds()\n",
    "for cpd in cpds:\n",
    "    print(cpd)"
   ]
  },
  {
   "cell_type": "code",
   "execution_count": 59,
   "metadata": {},
   "outputs": [
    {
     "name": "stderr",
     "output_type": "stream",
     "text": [
      "/anaconda3/envs/ML_Tensor_Keras/lib/python3.6/site-packages/pandas/core/frame.py:6211: FutureWarning: Sorting because non-concatenation axis is not aligned. A future version\n",
      "of pandas will change to not sort by default.\n",
      "\n",
      "To accept the future behavior, pass 'sort=False'.\n",
      "\n",
      "To retain the current behavior and silence the warning, pass 'sort=True'.\n",
      "\n",
      "  sort=sort)\n"
     ]
    }
   ],
   "source": [
    "inference = BayesianModelSampling(writerModel5)\n",
    "sampleData5 = inference.forward_sample(size=1000, return_type='dataframe')\n",
    "sampleData = sampleData.append(sampleData5,ignore_index=True)\n",
    "\n",
    "\n",
    "#k2 = K2Score(sampleData)\n",
    "#print('Writer Model 5 K2 Score: ' + str(k2.score(writerModel5)))"
   ]
  },
  {
   "cell_type": "code",
   "execution_count": 60,
   "metadata": {},
   "outputs": [],
   "source": [
    "from sklearn.utils import shuffle\n",
    "sampleData = shuffle(sampleData)\n"
   ]
  },
  {
   "cell_type": "code",
   "execution_count": 61,
   "metadata": {},
   "outputs": [
    {
     "name": "stdout",
     "output_type": "stream",
     "text": [
      "Writer Model 1 K2 Score: -31780.47954442873\n",
      "Writer Model 2 K2 Score: -31802.23420657652\n",
      "Writer Model 3 K2 Score: -32090.6778455987\n",
      "Writer Model 4 K2 Score: -31779.473913076963\n",
      "Writer Model 5 K2 Score: -31841.463420818993\n"
     ]
    }
   ],
   "source": [
    "sampleData = pd.DataFrame(sampleData)\n",
    "k2 = K2Score(sampleData)\n",
    "\n",
    "print('Writer Model 1 K2 Score: ' + str(k2.score(writerModel1)))\n",
    "print('Writer Model 2 K2 Score: ' + str(k2.score(writerModel2)))\n",
    "print('Writer Model 3 K2 Score: ' + str(k2.score(writerModel3)))\n",
    "print('Writer Model 4 K2 Score: ' + str(k2.score(writerModel4)))\n",
    "print('Writer Model 5 K2 Score: ' + str(k2.score(writerModel5)))"
   ]
  },
  {
   "cell_type": "code",
   "execution_count": 62,
   "metadata": {},
   "outputs": [],
   "source": [
    "sampleData['Features'] = sampleData[sampleData.columns[0:]].apply(\n",
    "    lambda x: ','.join(x.dropna().astype(int).astype(str)),\n",
    "    axis=1\n",
    ")\n"
   ]
  },
  {
   "cell_type": "code",
   "execution_count": 63,
   "metadata": {},
   "outputs": [
    {
     "name": "stdout",
     "output_type": "stream",
     "text": [
      "['x1', 'x2', 'x3', 'x4', 'x5', 'x6', 'Features']\n",
      "Max Probability th:0,0,1,0,0,3\n",
      "Min Probability th:3,4,0,0,0,4\n"
     ]
    },
    {
     "name": "stderr",
     "output_type": "stream",
     "text": [
      "/anaconda3/envs/ML_Tensor_Keras/lib/python3.6/site-packages/ipykernel_launcher.py:2: FutureWarning: 'argmax' is deprecated, use 'idxmax' instead. The behavior of 'argmax'\n",
      "will be corrected to return the positional maximum in the future.\n",
      "Use 'series.values.argmax' to get the position of the maximum now.\n",
      "  \n",
      "/anaconda3/envs/ML_Tensor_Keras/lib/python3.6/site-packages/ipykernel_launcher.py:4: FutureWarning: 'argmin' is deprecated, use 'idxmin' instead. The behavior of 'argmin'\n",
      "will be corrected to return the positional minimum in the future.\n",
      "Use 'series.values.argmin' to get the position of the minimum now.\n",
      "  after removing the cwd from sys.path.\n"
     ]
    }
   ],
   "source": [
    "print(list(sampleData))\n",
    "print('Max Probability th:' + sampleData['Features'].value_counts().argmax())\n",
    "\n",
    "print('Min Probability th:'+ sampleData['Features'].value_counts().argmin())\n"
   ]
  },
  {
   "cell_type": "code",
   "execution_count": null,
   "metadata": {},
   "outputs": [],
   "source": []
  },
  {
   "cell_type": "code",
   "execution_count": null,
   "metadata": {},
   "outputs": [],
   "source": []
  },
  {
   "cell_type": "markdown",
   "metadata": {},
   "source": [
    "# TASK 3"
   ]
  },
  {
   "cell_type": "code",
   "execution_count": 64,
   "metadata": {},
   "outputs": [
    {
     "data": {
      "text/plain": [
       "EdgeView([('x3', 'x6'), ('x3', 'x2'), ('x6', 'x1'), ('x6', 'x4'), ('x2', 'x5')])"
      ]
     },
     "execution_count": 64,
     "metadata": {},
     "output_type": "execute_result"
    }
   ],
   "source": [
    "markov=writerModel4.to_markov_model()\n",
    "markov.check_model()\n",
    "markov.edges()"
   ]
  },
  {
   "cell_type": "code",
   "execution_count": 65,
   "metadata": {},
   "outputs": [
    {
     "name": "stdout",
     "output_type": "stream",
     "text": [
      "+------+-----------+\n",
      "| x3   |   phi(x3) |\n",
      "+======+===========+\n",
      "| x3_0 |    0.1779 |\n",
      "+------+-----------+\n",
      "| x3_1 |    0.6474 |\n",
      "+------+-----------+\n",
      "| x3_2 |    0.1747 |\n",
      "+------+-----------+\n",
      "+------+-----------+\n",
      "| x2   |   phi(x2) |\n",
      "+======+===========+\n",
      "| x2_0 |    0.2681 |\n",
      "+------+-----------+\n",
      "| x2_1 |    0.3294 |\n",
      "+------+-----------+\n",
      "| x2_2 |    0.0000 |\n",
      "+------+-----------+\n",
      "| x2_3 |    0.1462 |\n",
      "+------+-----------+\n",
      "| x2_4 |    0.2563 |\n",
      "+------+-----------+\n",
      "+------+-----------+\n",
      "| x1   |   phi(x1) |\n",
      "+======+===========+\n",
      "| x1_0 |    0.7801 |\n",
      "+------+-----------+\n",
      "| x1_1 |    0.0149 |\n",
      "+------+-----------+\n",
      "| x1_2 |    0.0552 |\n",
      "+------+-----------+\n",
      "| x1_3 |    0.1498 |\n",
      "+------+-----------+\n",
      "+------+-----------+\n",
      "| x4   |   phi(x4) |\n",
      "+======+===========+\n",
      "| x4_0 |    0.7154 |\n",
      "+------+-----------+\n",
      "| x4_1 |    0.1046 |\n",
      "+------+-----------+\n",
      "| x4_2 |    0.0101 |\n",
      "+------+-----------+\n",
      "| x4_3 |    0.1699 |\n",
      "+------+-----------+\n",
      "+------+-----------+\n",
      "| x6   |   phi(x6) |\n",
      "+======+===========+\n",
      "| x6_0 |    0.0149 |\n",
      "+------+-----------+\n",
      "| x6_1 |    0.3185 |\n",
      "+------+-----------+\n",
      "| x6_2 |    0.1405 |\n",
      "+------+-----------+\n",
      "| x6_3 |    0.3152 |\n",
      "+------+-----------+\n",
      "| x6_4 |    0.2109 |\n",
      "+------+-----------+\n"
     ]
    },
    {
     "name": "stderr",
     "output_type": "stream",
     "text": [
      "/anaconda3/envs/ML_Tensor_Keras/lib/python3.6/site-packages/pgmpy-0.1.7-py3.6.egg/pgmpy/factors/discrete/DiscreteFactor.py:598: FutureWarning: Using a non-tuple sequence for multidimensional indexing is deprecated; use `arr[tuple(seq)]` instead of `arr[seq]`. In the future this will be interpreted as an array index, `arr[np.array(seq)]`, which will result either in an error or a different result.\n",
      "  phi1.values = phi1.values[slice_]\n",
      "/anaconda3/envs/ML_Tensor_Keras/lib/python3.6/site-packages/pgmpy-0.1.7-py3.6.egg/pgmpy/factors/discrete/DiscreteFactor.py:586: FutureWarning: Using a non-tuple sequence for multidimensional indexing is deprecated; use `arr[tuple(seq)]` instead of `arr[seq]`. In the future this will be interpreted as an array index, `arr[np.array(seq)]`, which will result either in an error or a different result.\n",
      "  phi.values = phi.values[slice_]\n"
     ]
    }
   ],
   "source": [
    "from pgmpy.inference import VariableElimination\n",
    "infer = VariableElimination(writerModel1)\n",
    "print(infer.query(['x3'], evidence={'x5': 3}) ['x3'])\n",
    "print(infer.query(['x2'], evidence={'x5': 3}) ['x2'])\n",
    "print(infer.query(['x1'], evidence={'x5': 3}) ['x1'])\n",
    "print(infer.query(['x4'], evidence={'x5': 3}) ['x4'])\n",
    "print(infer.query(['x6'], evidence={'x5': 3}) ['x6'])"
   ]
  },
  {
   "cell_type": "code",
   "execution_count": 66,
   "metadata": {},
   "outputs": [
    {
     "name": "stdout",
     "output_type": "stream",
     "text": [
      "+------+-----------+\n",
      "| x3   |   phi(x3) |\n",
      "+======+===========+\n",
      "| x3_0 |    0.1779 |\n",
      "+------+-----------+\n",
      "| x3_1 |    0.6475 |\n",
      "+------+-----------+\n",
      "| x3_2 |    0.1746 |\n",
      "+------+-----------+\n",
      "+------+-----------+\n",
      "| x2   |   phi(x2) |\n",
      "+======+===========+\n",
      "| x2_0 |    0.2684 |\n",
      "+------+-----------+\n",
      "| x2_1 |    0.3291 |\n",
      "+------+-----------+\n",
      "| x2_2 |    0.0000 |\n",
      "+------+-----------+\n",
      "| x2_3 |    0.1465 |\n",
      "+------+-----------+\n",
      "| x2_4 |    0.2560 |\n",
      "+------+-----------+\n",
      "+------+-----------+\n",
      "| x1   |   phi(x1) |\n",
      "+======+===========+\n",
      "| x1_0 |    0.7801 |\n",
      "+------+-----------+\n",
      "| x1_1 |    0.0149 |\n",
      "+------+-----------+\n",
      "| x1_2 |    0.0552 |\n",
      "+------+-----------+\n",
      "| x1_3 |    0.1498 |\n",
      "+------+-----------+\n",
      "+------+-----------+\n",
      "| x4   |   phi(x4) |\n",
      "+======+===========+\n",
      "| x4_0 |    0.7154 |\n",
      "+------+-----------+\n",
      "| x4_1 |    0.1046 |\n",
      "+------+-----------+\n",
      "| x4_2 |    0.0101 |\n",
      "+------+-----------+\n",
      "| x4_3 |    0.1699 |\n",
      "+------+-----------+\n"
     ]
    },
    {
     "name": "stderr",
     "output_type": "stream",
     "text": [
      "/anaconda3/envs/ML_Tensor_Keras/lib/python3.6/site-packages/pgmpy-0.1.7-py3.6.egg/pgmpy/factors/discrete/DiscreteFactor.py:598: FutureWarning: Using a non-tuple sequence for multidimensional indexing is deprecated; use `arr[tuple(seq)]` instead of `arr[seq]`. In the future this will be interpreted as an array index, `arr[np.array(seq)]`, which will result either in an error or a different result.\n",
      "  phi1.values = phi1.values[slice_]\n",
      "/anaconda3/envs/ML_Tensor_Keras/lib/python3.6/site-packages/pgmpy-0.1.7-py3.6.egg/pgmpy/factors/discrete/DiscreteFactor.py:586: FutureWarning: Using a non-tuple sequence for multidimensional indexing is deprecated; use `arr[tuple(seq)]` instead of `arr[seq]`. In the future this will be interpreted as an array index, `arr[np.array(seq)]`, which will result either in an error or a different result.\n",
      "  phi.values = phi.values[slice_]\n"
     ]
    },
    {
     "name": "stdout",
     "output_type": "stream",
     "text": [
      "+------+-----------+\n",
      "| x6   |   phi(x6) |\n",
      "+======+===========+\n",
      "| x6_0 |    0.0149 |\n",
      "+------+-----------+\n",
      "| x6_1 |    0.3185 |\n",
      "+------+-----------+\n",
      "| x6_2 |    0.1405 |\n",
      "+------+-----------+\n",
      "| x6_3 |    0.3152 |\n",
      "+------+-----------+\n",
      "| x6_4 |    0.2109 |\n",
      "+------+-----------+\n"
     ]
    }
   ],
   "source": [
    "infer_markov = VariableElimination(markov)\n",
    "print(infer_markov.query(['x3'], evidence={'x5': 3}) ['x3'])\n",
    "print(infer_markov.query(['x2'], evidence={'x5': 3}) ['x2'])\n",
    "print(infer_markov.query(['x1'], evidence={'x5': 3}) ['x1'])\n",
    "print(infer_markov.query(['x4'], evidence={'x5': 3}) ['x4'])\n",
    "print(infer_markov.query(['x6'], evidence={'x5': 3}) ['x6'])"
   ]
  },
  {
   "cell_type": "code",
   "execution_count": 67,
   "metadata": {},
   "outputs": [
    {
     "name": "stderr",
     "output_type": "stream",
     "text": [
      "/anaconda3/envs/ML_Tensor_Keras/lib/python3.6/site-packages/pgmpy-0.1.7-py3.6.egg/pgmpy/factors/discrete/DiscreteFactor.py:586: FutureWarning: Using a non-tuple sequence for multidimensional indexing is deprecated; use `arr[tuple(seq)]` instead of `arr[seq]`. In the future this will be interpreted as an array index, `arr[np.array(seq)]`, which will result either in an error or a different result.\n",
      "  phi.values = phi.values[slice_]\n"
     ]
    },
    {
     "name": "stdout",
     "output_type": "stream",
     "text": [
      "Bayesian Total Query Time for 100 queries in sec :0.8352860000000009\n"
     ]
    }
   ],
   "source": [
    "import time\n",
    "start = time.clock()\n",
    "for i in range(0,100):\n",
    "    infer.query(['x3'], evidence={'x5': 3,'x1':0,'x2':0}) ['x3']\n",
    "end = time.clock()\n",
    "print(\"Bayesian Total Query Time for 100 queries in sec :\" + str(end-start))"
   ]
  },
  {
   "cell_type": "code",
   "execution_count": 68,
   "metadata": {},
   "outputs": [
    {
     "name": "stderr",
     "output_type": "stream",
     "text": [
      "/anaconda3/envs/ML_Tensor_Keras/lib/python3.6/site-packages/pgmpy-0.1.7-py3.6.egg/pgmpy/factors/discrete/DiscreteFactor.py:586: FutureWarning: Using a non-tuple sequence for multidimensional indexing is deprecated; use `arr[tuple(seq)]` instead of `arr[seq]`. In the future this will be interpreted as an array index, `arr[np.array(seq)]`, which will result either in an error or a different result.\n",
      "  phi.values = phi.values[slice_]\n"
     ]
    },
    {
     "name": "stdout",
     "output_type": "stream",
     "text": [
      "Markov Total Query Time for 100 queries in sec :0.9184660000000004\n"
     ]
    }
   ],
   "source": [
    "start = time.clock()\n",
    "for i in range(0,100):\n",
    "    infer_markov.query(['x3'], evidence={'x5': 3,'x1':0,'x2':0}) ['x3']\n",
    "end = time.clock()\n",
    "print(\"Markov Total Query Time for 100 queries in sec :\" + str(end-start))"
   ]
  },
  {
   "cell_type": "markdown",
   "metadata": {},
   "source": [
    "# Task 4"
   ]
  },
  {
   "cell_type": "code",
   "execution_count": 69,
   "metadata": {},
   "outputs": [],
   "source": [
    "andTable = pd.read_csv(\"AND-Features(1).csv\")\n",
    "andTable = andTable.drop('Unnamed: 0', axis=1)\n",
    "andTable = andTable.drop('img_id', axis=1)\n"
   ]
  },
  {
   "cell_type": "code",
   "execution_count": 70,
   "metadata": {},
   "outputs": [
    {
     "name": "stdout",
     "output_type": "stream",
     "text": [
      "[('f3', 'f4'), ('f3', 'f9'), ('f3', 'f8'), ('f5', 'f9'), ('f5', 'f3'), ('f9', 'f8'), ('f9', 'f7'), ('f9', 'f1'), ('f9', 'f6'), ('f9', 'f2'), ('f9', 'f4')]\n",
      "-9462.704892371388\n"
     ]
    }
   ],
   "source": [
    "from pgmpy.estimators import HillClimbSearch\n",
    "\n",
    "\n",
    "hc = HillClimbSearch(andTable, scoring_method=K2Score(andTable))\n",
    "best_model = hc.estimate()\n",
    "print(best_model.edges())\n",
    "\n",
    "k2= K2Score(andTable)\n",
    "print(k2.score(best_model))"
   ]
  },
  {
   "cell_type": "code",
   "execution_count": 71,
   "metadata": {},
   "outputs": [
    {
     "name": "stdout",
     "output_type": "stream",
     "text": [
      "(482.7718587152905, 4.142351135271309e-94, True)\n",
      "(1.3980689452205532, 0.9245243928726646, True)\n",
      "(32.14795204496169, 0.0038164804272410005, True)\n",
      "(131.7772558571832, 2.6725131187295385e-25, True)\n",
      "(115.37681090826301, 1.5377765789743995e-19, True)\n",
      "(133.91387560561506, 1.8559350344627858e-24, True)\n",
      "(124.966914415854, 7.06411233848206e-24, True)\n",
      "(62.609670338494034, 4.537983651769832e-11, True)\n",
      "(36.66980054440991, 5.416786812042719e-06, True)\n",
      "(24.412937465989522, 0.0036940595651542216, True)\n",
      "(22.274416384014824, 0.00804878910422573, True)\n"
     ]
    }
   ],
   "source": [
    "from pgmpy.estimators import ConstraintBasedEstimator\n",
    "\n",
    "\n",
    "\n",
    "est = ConstraintBasedEstimator(andTable)\n",
    "print(est.test_conditional_independence('f3', 'f4')) \n",
    "print(est.test_conditional_independence('f3', 'f9'))\n",
    "print(est.test_conditional_independence('f3', 'f8')) \n",
    "print(est.test_conditional_independence('f5', 'f9'))\n",
    "print(est.test_conditional_independence('f5', 'f3')) \n",
    "print(est.test_conditional_independence('f9', 'f8'))\n",
    "print(est.test_conditional_independence('f9', 'f7')) \n",
    "print(est.test_conditional_independence('f9', 'f1'))\n",
    "print(est.test_conditional_independence('f9', 'f6'))\n",
    "print(est.test_conditional_independence('f9', 'f2'))\n",
    "print(est.test_conditional_independence('f9', 'f4'))"
   ]
  },
  {
   "cell_type": "code",
   "execution_count": 72,
   "metadata": {},
   "outputs": [
    {
     "name": "stdout",
     "output_type": "stream",
     "text": [
      "False\n",
      "True\n",
      "False\n",
      "False\n",
      "False\n",
      "False\n",
      "False\n",
      "False\n",
      "False\n",
      "False\n",
      "True\n"
     ]
    }
   ],
   "source": [
    "def is_independent(X, Y, Zs=[], significance_level=0.005):\n",
    "    return est.test_conditional_independence(X, Y, Zs)[1] >= significance_level\n",
    "\n",
    "print(is_independent('f3', 'f4')) \n",
    "print(is_independent('f3', 'f9'))\n",
    "print(is_independent('f3', 'f8')) \n",
    "print(is_independent('f5', 'f9'))\n",
    "print(is_independent('f5', 'f3')) \n",
    "print(is_independent('f9', 'f8'))\n",
    "print(is_independent('f9', 'f7')) \n",
    "print(is_independent('f9', 'f1'))\n",
    "print(is_independent('f9', 'f6'))\n",
    "print(is_independent('f9', 'f2'))\n",
    "print(is_independent('f9', 'f4'))\n"
   ]
  },
  {
   "cell_type": "code",
   "execution_count": 73,
   "metadata": {},
   "outputs": [],
   "source": [
    "andModel2 = BayesianModel([ ('f3', 'f4'), ('f3', 'f8'), ('f5', 'f9'), ('f5', 'f3'), ('f9', 'f8'), \n",
    "                              ('f9', 'f7'), ('f9', 'f1'), ('f9', 'f6'), ('f9', 'f2')])\n"
   ]
  },
  {
   "cell_type": "code",
   "execution_count": 74,
   "metadata": {},
   "outputs": [
    {
     "name": "stdout",
     "output_type": "stream",
     "text": [
      "And Model 2 K2 Score: -9472.19006495243\n"
     ]
    }
   ],
   "source": [
    "k2 = K2Score(andTable)\n",
    "print('And Model 2 K2 Score: ' + str(k2.score(andModel2)))"
   ]
  },
  {
   "cell_type": "code",
   "execution_count": 75,
   "metadata": {},
   "outputs": [],
   "source": [
    "andModel3 = BayesianModel([ ('f3', 'f4'), ('f5', 'f9'), ('f5', 'f3'), ('f9', 'f8'), \n",
    "                              ('f9', 'f7'), ('f9', 'f1'), ('f9', 'f6')])"
   ]
  },
  {
   "cell_type": "code",
   "execution_count": 76,
   "metadata": {},
   "outputs": [
    {
     "name": "stdout",
     "output_type": "stream",
     "text": [
      "And Model 3 K2 Score: -8170.17128835256\n"
     ]
    }
   ],
   "source": [
    "k2 = K2Score(andTable)\n",
    "print('And Model 3 K2 Score: ' + str(k2.score(andModel3)))"
   ]
  },
  {
   "cell_type": "code",
   "execution_count": 77,
   "metadata": {},
   "outputs": [],
   "source": [
    "andModel4 = BayesianModel([ ('f4', 'f3'), ('f9', 'f5'), ('f3', 'f5'), ('f8', 'f9'), \n",
    "                              ('f7', 'f9'), ('f1', 'f9'), ('f6', 'f9')])"
   ]
  },
  {
   "cell_type": "code",
   "execution_count": 78,
   "metadata": {},
   "outputs": [
    {
     "name": "stdout",
     "output_type": "stream",
     "text": [
      "And Model 4 K2 Score: -8332.658816438494\n"
     ]
    }
   ],
   "source": [
    "k2 = K2Score(andTable)\n",
    "print('And Model 4 K2 Score: ' + str(k2.score(andModel4)))"
   ]
  },
  {
   "cell_type": "code",
   "execution_count": 79,
   "metadata": {},
   "outputs": [
    {
     "name": "stdout",
     "output_type": "stream",
     "text": [
      "And Model 5 K2 Score: -9504.248198278681\n"
     ]
    }
   ],
   "source": [
    "andModel5 = BayesianModel([ ('f4', 'f3'), ('f3', 'f8'), ('f5', 'f9'), ('f5', 'f3'), ('f9', 'f8'), \n",
    "                              ('f9', 'f7'), ('f9', 'f1'), ('f9', 'f6'), ('f2', 'f9')])\n",
    "k2 = K2Score(andTable)\n",
    "print('And Model 5 K2 Score: ' + str(k2.score(andModel5)))"
   ]
  },
  {
   "cell_type": "code",
   "execution_count": 80,
   "metadata": {},
   "outputs": [
    {
     "name": "stdout",
     "output_type": "stream",
     "text": [
      "+-------+---------------------+---------------------+\n",
      "| f9    | f9(1)               | f9(2)               |\n",
      "+-------+---------------------+---------------------+\n",
      "| f1(0) | 0.19823788546255505 | 0.10638297872340426 |\n",
      "+-------+---------------------+---------------------+\n",
      "| f1(1) | 0.44933920704845814 | 0.26032540675844806 |\n",
      "+-------+---------------------+---------------------+\n",
      "| f1(2) | 0.2643171806167401  | 0.3692115143929912  |\n",
      "+-------+---------------------+---------------------+\n",
      "| f1(3) | 0.0881057268722467  | 0.2640801001251564  |\n",
      "+-------+---------------------+---------------------+\n",
      "+-------+----------------------+----------------------+\n",
      "| f9    | f9(1)                | f9(2)                |\n",
      "+-------+----------------------+----------------------+\n",
      "| f2(0) | 0.14537444933920704  | 0.18648310387984982  |\n",
      "+-------+----------------------+----------------------+\n",
      "| f2(1) | 0.6255506607929515   | 0.4856070087609512   |\n",
      "+-------+----------------------+----------------------+\n",
      "| f2(2) | 0.14537444933920704  | 0.12640801001251564  |\n",
      "+-------+----------------------+----------------------+\n",
      "| f2(3) | 0.013215859030837005 | 0.011264080100125156 |\n",
      "+-------+----------------------+----------------------+\n",
      "| f2(4) | 0.07048458149779736  | 0.1902377972465582   |\n",
      "+-------+----------------------+----------------------+\n"
     ]
    }
   ],
   "source": [
    "from pgmpy.estimators import MaximumLikelihoodEstimator\n",
    "mle = MaximumLikelihoodEstimator(best_model, andTable)\n",
    "\n",
    "print(mle.estimate_cpd('f1'))  \n",
    "print(mle.estimate_cpd('f2'))"
   ]
  },
  {
   "cell_type": "code",
   "execution_count": 81,
   "metadata": {},
   "outputs": [
    {
     "name": "stdout",
     "output_type": "stream",
     "text": [
      "+-------+---------------------+---------------------+\n",
      "| f9    | f9(1)               | f9(2)               |\n",
      "+-------+---------------------+---------------------+\n",
      "| f1(0) | 0.19913419913419914 | 0.10709838107098381 |\n",
      "+-------+---------------------+---------------------+\n",
      "| f1(1) | 0.4458874458874459  | 0.2602739726027397  |\n",
      "+-------+---------------------+---------------------+\n",
      "| f1(2) | 0.26406926406926406 | 0.3686176836861768  |\n",
      "+-------+---------------------+---------------------+\n",
      "| f1(3) | 0.09090909090909091 | 0.2640099626400996  |\n",
      "+-------+---------------------+---------------------+\n",
      "+-------+----------------------+----------------------+\n",
      "| f9    | f9(1)                | f9(2)                |\n",
      "+-------+----------------------+----------------------+\n",
      "| f2(0) | 0.14655172413793102  | 0.1865671641791045   |\n",
      "+-------+----------------------+----------------------+\n",
      "| f2(1) | 0.6163793103448276   | 0.48383084577114427  |\n",
      "+-------+----------------------+----------------------+\n",
      "| f2(2) | 0.14655172413793102  | 0.12686567164179105  |\n",
      "+-------+----------------------+----------------------+\n",
      "| f2(3) | 0.017241379310344827 | 0.012437810945273632 |\n",
      "+-------+----------------------+----------------------+\n",
      "| f2(4) | 0.07327586206896551  | 0.19029850746268656  |\n",
      "+-------+----------------------+----------------------+\n"
     ]
    }
   ],
   "source": [
    "from pgmpy.estimators import BayesianEstimator\n",
    "est = BayesianEstimator(best_model, andTable)\n",
    "cpd_f1 = est.estimate_cpd('f1', prior_type='K2', equivalent_sample_size=100)\n",
    "cpd_f2 = est.estimate_cpd('f2', prior_type='K2', equivalent_sample_size=100)\n",
    "cpd_f3 = est.estimate_cpd('f3', prior_type='K2', equivalent_sample_size=100)\n",
    "cpd_f4 = est.estimate_cpd('f4', prior_type='K2', equivalent_sample_size=100)\n",
    "cpd_f5 = est.estimate_cpd('f5', prior_type='K2', equivalent_sample_size=100)\n",
    "cpd_f6 = est.estimate_cpd('f6', prior_type='K2', equivalent_sample_size=100)\n",
    "cpd_f7 = est.estimate_cpd('f7', prior_type='K2', equivalent_sample_size=100)\n",
    "cpd_f9 = est.estimate_cpd('f9', prior_type='K2', equivalent_sample_size=100)\n",
    "cpd_f8 = est.estimate_cpd('f8', prior_type='K2', equivalent_sample_size=100)\n",
    "print(cpd_f1)\n",
    "print(cpd_f2)"
   ]
  },
  {
   "cell_type": "code",
   "execution_count": 82,
   "metadata": {},
   "outputs": [
    {
     "data": {
      "text/plain": [
       "True"
      ]
     },
     "execution_count": 82,
     "metadata": {},
     "output_type": "execute_result"
    }
   ],
   "source": [
    "best_model.add_cpds(cpd_f1,cpd_f2,cpd_f3,cpd_f4,cpd_f5,cpd_f6,cpd_f7,cpd_f8,cpd_f9)\n",
    "best_model.check_model()"
   ]
  },
  {
   "cell_type": "code",
   "execution_count": 83,
   "metadata": {},
   "outputs": [
    {
     "name": "stdout",
     "output_type": "stream",
     "text": [
      "+------+-----------+\n",
      "| f1   |   phi(f1) |\n",
      "+======+===========+\n",
      "| f1_0 |    0.1991 |\n",
      "+------+-----------+\n",
      "| f1_1 |    0.4459 |\n",
      "+------+-----------+\n",
      "| f1_2 |    0.2641 |\n",
      "+------+-----------+\n",
      "| f1_3 |    0.0909 |\n",
      "+------+-----------+\n"
     ]
    },
    {
     "name": "stderr",
     "output_type": "stream",
     "text": [
      "/anaconda3/envs/ML_Tensor_Keras/lib/python3.6/site-packages/pgmpy-0.1.7-py3.6.egg/pgmpy/factors/discrete/DiscreteFactor.py:586: FutureWarning: Using a non-tuple sequence for multidimensional indexing is deprecated; use `arr[tuple(seq)]` instead of `arr[seq]`. In the future this will be interpreted as an array index, `arr[np.array(seq)]`, which will result either in an error or a different result.\n",
      "  phi.values = phi.values[slice_]\n",
      "/anaconda3/envs/ML_Tensor_Keras/lib/python3.6/site-packages/pgmpy-0.1.7-py3.6.egg/pgmpy/factors/discrete/DiscreteFactor.py:598: FutureWarning: Using a non-tuple sequence for multidimensional indexing is deprecated; use `arr[tuple(seq)]` instead of `arr[seq]`. In the future this will be interpreted as an array index, `arr[np.array(seq)]`, which will result either in an error or a different result.\n",
      "  phi1.values = phi1.values[slice_]\n"
     ]
    }
   ],
   "source": [
    "from pgmpy.inference import VariableElimination\n",
    "infer = VariableElimination(best_model)\n",
    "print(infer.query(['f1'], evidence={'f9': 0}) ['f1'])\n"
   ]
  },
  {
   "cell_type": "code",
   "execution_count": 84,
   "metadata": {},
   "outputs": [
    {
     "data": {
      "text/plain": [
       "EdgeView([('f1', 'f9'), ('f9', 'f2'), ('f9', 'f3'), ('f9', 'f4'), ('f9', 'f5'), ('f9', 'f6'), ('f9', 'f7'), ('f9', 'f8'), ('f3', 'f4'), ('f3', 'f8'), ('f3', 'f5')])"
      ]
     },
     "execution_count": 84,
     "metadata": {},
     "output_type": "execute_result"
    }
   ],
   "source": [
    "markov=best_model.to_markov_model()\n",
    "markov.check_model()\n",
    "markov.edges()"
   ]
  },
  {
   "cell_type": "code",
   "execution_count": 85,
   "metadata": {},
   "outputs": [
    {
     "name": "stdout",
     "output_type": "stream",
     "text": [
      "+------+-----------+\n",
      "| f1   |   phi(f1) |\n",
      "+======+===========+\n",
      "| f1_0 |    0.1991 |\n",
      "+------+-----------+\n",
      "| f1_1 |    0.4459 |\n",
      "+------+-----------+\n",
      "| f1_2 |    0.2641 |\n",
      "+------+-----------+\n",
      "| f1_3 |    0.0909 |\n",
      "+------+-----------+\n"
     ]
    },
    {
     "name": "stderr",
     "output_type": "stream",
     "text": [
      "/anaconda3/envs/ML_Tensor_Keras/lib/python3.6/site-packages/pgmpy-0.1.7-py3.6.egg/pgmpy/factors/discrete/DiscreteFactor.py:586: FutureWarning: Using a non-tuple sequence for multidimensional indexing is deprecated; use `arr[tuple(seq)]` instead of `arr[seq]`. In the future this will be interpreted as an array index, `arr[np.array(seq)]`, which will result either in an error or a different result.\n",
      "  phi.values = phi.values[slice_]\n",
      "/anaconda3/envs/ML_Tensor_Keras/lib/python3.6/site-packages/pgmpy-0.1.7-py3.6.egg/pgmpy/factors/discrete/DiscreteFactor.py:598: FutureWarning: Using a non-tuple sequence for multidimensional indexing is deprecated; use `arr[tuple(seq)]` instead of `arr[seq]`. In the future this will be interpreted as an array index, `arr[np.array(seq)]`, which will result either in an error or a different result.\n",
      "  phi1.values = phi1.values[slice_]\n"
     ]
    }
   ],
   "source": [
    "infer_markov = VariableElimination(markov)\n",
    "print(infer.query(['f1'], evidence={'f9': 0}) ['f1'])"
   ]
  },
  {
   "cell_type": "code",
   "execution_count": 86,
   "metadata": {},
   "outputs": [
    {
     "name": "stderr",
     "output_type": "stream",
     "text": [
      "/anaconda3/envs/ML_Tensor_Keras/lib/python3.6/site-packages/pgmpy-0.1.7-py3.6.egg/pgmpy/factors/discrete/DiscreteFactor.py:586: FutureWarning: Using a non-tuple sequence for multidimensional indexing is deprecated; use `arr[tuple(seq)]` instead of `arr[seq]`. In the future this will be interpreted as an array index, `arr[np.array(seq)]`, which will result either in an error or a different result.\n",
      "  phi.values = phi.values[slice_]\n",
      "/anaconda3/envs/ML_Tensor_Keras/lib/python3.6/site-packages/pgmpy-0.1.7-py3.6.egg/pgmpy/factors/discrete/DiscreteFactor.py:598: FutureWarning: Using a non-tuple sequence for multidimensional indexing is deprecated; use `arr[tuple(seq)]` instead of `arr[seq]`. In the future this will be interpreted as an array index, `arr[np.array(seq)]`, which will result either in an error or a different result.\n",
      "  phi1.values = phi1.values[slice_]\n"
     ]
    },
    {
     "name": "stdout",
     "output_type": "stream",
     "text": [
      "Bayesian  And Model Total Query Time for 100 queries in sec :2.4657129999999974\n"
     ]
    }
   ],
   "source": [
    "start = time.clock()\n",
    "for i in range(0,100):\n",
    "    infer.query(['f1'], evidence={'f9': 0}) ['f1']\n",
    "end = time.clock()\n",
    "print(\"Bayesian  And Model Total Query Time for 100 queries in sec :\" + str(end-start))"
   ]
  },
  {
   "cell_type": "code",
   "execution_count": 87,
   "metadata": {},
   "outputs": [
    {
     "name": "stderr",
     "output_type": "stream",
     "text": [
      "/anaconda3/envs/ML_Tensor_Keras/lib/python3.6/site-packages/pgmpy-0.1.7-py3.6.egg/pgmpy/factors/discrete/DiscreteFactor.py:586: FutureWarning: Using a non-tuple sequence for multidimensional indexing is deprecated; use `arr[tuple(seq)]` instead of `arr[seq]`. In the future this will be interpreted as an array index, `arr[np.array(seq)]`, which will result either in an error or a different result.\n",
      "  phi.values = phi.values[slice_]\n",
      "/anaconda3/envs/ML_Tensor_Keras/lib/python3.6/site-packages/pgmpy-0.1.7-py3.6.egg/pgmpy/factors/discrete/DiscreteFactor.py:598: FutureWarning: Using a non-tuple sequence for multidimensional indexing is deprecated; use `arr[tuple(seq)]` instead of `arr[seq]`. In the future this will be interpreted as an array index, `arr[np.array(seq)]`, which will result either in an error or a different result.\n",
      "  phi1.values = phi1.values[slice_]\n"
     ]
    },
    {
     "name": "stdout",
     "output_type": "stream",
     "text": [
      "Markov And Model Total Query Time for 100 queries in sec :2.4796070000000014\n"
     ]
    }
   ],
   "source": [
    "start = time.clock()\n",
    "for i in range(0,100):\n",
    "    infer.query(['f1'], evidence={'f9': 0}) ['f1']\n",
    "end = time.clock()\n",
    "print(\"Markov And Model Total Query Time for 100 queries in sec :\" + str(end-start))"
   ]
  },
  {
   "cell_type": "code",
   "execution_count": null,
   "metadata": {},
   "outputs": [],
   "source": []
  }
 ],
 "metadata": {
  "kernelspec": {
   "display_name": "Python 3",
   "language": "python",
   "name": "python3"
  },
  "language_info": {
   "codemirror_mode": {
    "name": "ipython",
    "version": 3
   },
   "file_extension": ".py",
   "mimetype": "text/x-python",
   "name": "python",
   "nbconvert_exporter": "python",
   "pygments_lexer": "ipython3",
   "version": "3.6.8"
  }
 },
 "nbformat": 4,
 "nbformat_minor": 2
}
