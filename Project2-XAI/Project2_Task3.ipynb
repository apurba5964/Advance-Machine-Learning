{
 "cells": [
  {
   "cell_type": "markdown",
   "metadata": {
    "colab_type": "text",
    "id": "nTCFrLseGLxQ"
   },
   "source": [
    "# TASK 3"
   ]
  },
  {
   "cell_type": "code",
   "execution_count": 1,
   "metadata": {
    "colab": {},
    "colab_type": "code",
    "id": "1vWnoGNJGLxS"
   },
   "outputs": [],
   "source": [
    "import numpy as np\n",
    "import pandas as pd\n",
    "from pgmpy.estimators import HillClimbSearch\n",
    "from pgmpy.estimators import K2Score\n",
    "from pgmpy.models.BayesianModel import BayesianModel\n",
    "from sklearn.utils import shuffle"
   ]
  },
  {
   "cell_type": "code",
   "execution_count": 2,
   "metadata": {
    "colab": {},
    "colab_type": "code",
    "id": "yaYPX6m-GLxU"
   },
   "outputs": [],
   "source": [
    "seen_data = \"seen-dataset/dataset_seen_training_siamese.csv\"\n",
    "seen_validation_data = \"seen-dataset/dataset_seen_validation_siamese.csv\"\n",
    "seenValidImagePath  = 'seen-dataset/ValidationSet/'\n",
    "seenTrainImagePath = 'seen-dataset/TrainingSet/'\n",
    "shuffled_data = \"shuffled-dataset/dataset_seen_training_siamese.csv\"\n",
    "shuffled_validation_data = \"shuffled-dataset/dataset_seen_validation_siamese.csv\"\n",
    "shuffledValidImagePath  = 'shuffled-dataset/ValidationSet/'\n",
    "shuffledTrainImagePath = 'shuffled-dataset/TrainingSet/'\n",
    "unseen_data = \"unseen-dataset/dataset_seen_training_siamese.csv\"\n",
    "unseen_validation_data = \"unseen-dataset/dataset_seen_validation_siamese.csv\"\n",
    "unseenValidImagePath  = 'unseen-dataset/ValidationSet/'\n",
    "unseenTrainImagePath = 'unseen-dataset/TrainingSet/'"
   ]
  },
  {
   "cell_type": "code",
   "execution_count": 4,
   "metadata": {
    "colab": {
     "base_uri": "https://localhost:8080/",
     "height": 34
    },
    "colab_type": "code",
    "id": "roh7gNNmGLyN",
    "outputId": "7517c238-8cb9-42f8-879b-766fe6eda368"
   },
   "outputs": [
    {
     "name": "stderr",
     "output_type": "stream",
     "text": [
      "Using TensorFlow backend.\n"
     ]
    }
   ],
   "source": [
    "from keras.models import Model\n",
    "from keras.layers import Input, Conv2D, MaxPooling2D, BatchNormalization, Activation, Reshape, UpSampling2D\n",
    "from IPython.display import SVG\n",
    "from keras.utils.vis_utils import model_to_dot\n",
    "from keras.layers import Activation, Dense, Flatten\n",
    "from sklearn.metrics import accuracy_score\n",
    "from keras.utils import np_utils\n",
    "from keras.models import Sequential\n",
    "from keras.layers import Dense, Activation, Dropout\n",
    "from keras.layers.advanced_activations import LeakyReLU\n",
    "from keras.utils.vis_utils import plot_model\n",
    "from keras.callbacks import EarlyStopping, TensorBoard\n",
    "from keras import optimizers\n",
    "from PIL import Image\n",
    "import os\n",
    "import numpy as np\n",
    "import imghdr\n",
    "from sklearn.metrics.pairwise import cosine_similarity\n",
    "from sklearn.metrics import roc_auc_score\n",
    "from sklearn.metrics import average_precision_score \n",
    "from sklearn.metrics import recall_score "
   ]
  },
  {
   "cell_type": "code",
   "execution_count": 0,
   "metadata": {
    "colab": {},
    "colab_type": "code",
    "id": "R_5BnSM9GLyR"
   },
   "outputs": [],
   "source": []
  },
  {
   "cell_type": "code",
   "execution_count": 0,
   "metadata": {
    "colab": {},
    "colab_type": "code",
    "id": "Mf4GIfdvGLyS"
   },
   "outputs": [],
   "source": [
    "def generateValidationSet(dataset):\n",
    "    valid_data = pd.read_csv(dataset).drop('Unnamed: 0', axis=1)\n",
    "    valid_data = shuffle(valid_data).reset_index(drop=True)\n",
    "    leftImg = valid_data['left']\n",
    "    rightImg = valid_data['right']\n",
    "    target = valid_data['label']\n",
    "    return leftImg,rightImg,target"
   ]
  },
  {
   "cell_type": "code",
   "execution_count": 0,
   "metadata": {
    "colab": {},
    "colab_type": "code",
    "id": "C_zAPaBXGLyW"
   },
   "outputs": [],
   "source": [
    "def generateVaildationImageSet(validationImagePath,leftImg,rightImg):\n",
    "    LeftMat  = []\n",
    "    RightMat  = []\n",
    "    #seenValidPath  = 'seen-dataset/ValidationSet/'\n",
    "    for i in range(0,len(leftImg)):\n",
    "        imgLeft  = Image.open(validationImagePath + leftImg[i],'r').convert('L')\n",
    "        imgRight  = Image.open(validationImagePath + rightImg[i],'r').convert('L')\n",
    "        imgLeftdata = (255-np.array(imgLeft.getdata()))/255\n",
    "        imgRightdata = (255-np.array(imgRight.getdata()))/255\n",
    "        LeftMat.append(imgLeftdata)\n",
    "        RightMat.append(imgRightdata)\n",
    "        \n",
    "    LeftMat = np.array(LeftMat)\n",
    "    LeftMat.resize(len(LeftMat),64,64,1)\n",
    "    print(LeftMat.shape)\n",
    "\n",
    "    RightMat = np.array(RightMat)\n",
    "    RightMat.resize(len(RightMat),64,64,1)\n",
    "    print(RightMat.shape)\n",
    "    return LeftMat,RightMat"
   ]
  },
  {
   "cell_type": "code",
   "execution_count": 0,
   "metadata": {
    "colab": {},
    "colab_type": "code",
    "id": "GgUucAV2GLya"
   },
   "outputs": [],
   "source": [
    "def generateTraininigImageSet(trainingPath):\n",
    "    TrainMat  = []\n",
    "    #curPath  = 'seen-dataset/TrainingSet/'\n",
    "    curFolderPath = trainingPath \n",
    "    imgs =  os.listdir(curFolderPath)\n",
    "    for img in imgs:\n",
    "        curImg = curFolderPath + '/' + img\n",
    "        img = Image.open(curImg,'r').convert('L')\n",
    "        imgdata = (255-np.array(img.getdata()))/255\n",
    "        TrainMat.append(imgdata)\n",
    "        \n",
    "    TrainMat = np.array(TrainMat)\n",
    "    TrainMat.resize(len(TrainMat),64,64,1)\n",
    "    print(TrainMat.shape)\n",
    "    return TrainMat"
   ]
  },
  {
   "cell_type": "code",
   "execution_count": 0,
   "metadata": {
    "colab": {},
    "colab_type": "code",
    "id": "PpER0e_NGLyd"
   },
   "outputs": [],
   "source": [
    "\n",
    "\n"
   ]
  },
  {
   "cell_type": "code",
   "execution_count": 0,
   "metadata": {
    "colab": {},
    "colab_type": "code",
    "id": "e9JTjTeWGLyg"
   },
   "outputs": [],
   "source": []
  },
  {
   "cell_type": "markdown",
   "metadata": {
    "colab_type": "text",
    "id": "ods-9udeGLyj"
   },
   "source": [
    "# AUTOENCODER"
   ]
  },
  {
   "cell_type": "code",
   "execution_count": 0,
   "metadata": {
    "colab": {},
    "colab_type": "code",
    "id": "ZrXiH1b8GLyk"
   },
   "outputs": [],
   "source": [
    "def createAutoEncoder():\n",
    "    input_img = Input(shape=(64, 64, 1))  # adapt this if using `channels_first` image data format\n",
    "    # x = CoordinateChannel2D()(input_img)\n",
    "    x = Conv2D(16, (3, 3), activation='relu', padding='same')(input_img)\n",
    "    x = MaxPooling2D((2, 2), padding='same')(x)\n",
    "    # x = CoordinateChannel2D()(x)\n",
    "    x = Conv2D(8, (3, 3), activation='relu', padding='same')(x)\n",
    "    x = MaxPooling2D((2, 2), padding='same')(x)\n",
    "    # x = CoordinateChannel2D()(x)\n",
    "    x = Conv2D(8, (3, 3), activation='relu', padding='same')(x)\n",
    "    encoded = MaxPooling2D((2, 2), padding='same')(x)\n",
    "    encoded = Flatten()(x)\n",
    "    encoded = Dense(8*8*8, activation='relu', name='latent')(encoded)\n",
    "    # model = Model(input_img,encoded)\n",
    "    # print(model.summary())\n",
    "    # at this point the representation is (4, 4, 8) i.e. 128-dimensional\n",
    "    r = Reshape(target_shape=(8,8,8))(encoded)\n",
    "    x = Conv2D(8, (3, 3), activation='relu', padding='same')(r)\n",
    "    x = UpSampling2D((2, 2))(x)\n",
    "    x = Conv2D(8, (3, 3), activation='relu', padding='same')(x)\n",
    "    x = UpSampling2D((2, 2))(x)\n",
    "    x = Conv2D(16, (3, 3), activation='relu', padding='same')(x)\n",
    "    x = UpSampling2D((2, 2))(x)\n",
    "    decoded = Conv2D(1, (3, 3), activation='sigmoid', padding='same',name='output')(x)\n",
    "\n",
    "    autoencoder = Model(input_img, decoded)\n",
    "    \n",
    "    autoencoder.compile(optimizer='adam', loss='binary_crossentropy',metrics=['accuracy'])\n",
    "    autoencoder.summary()\n",
    "    return autoencoder"
   ]
  },
  {
   "cell_type": "code",
   "execution_count": 0,
   "metadata": {
    "colab": {},
    "colab_type": "code",
    "id": "QktWkw2fGLyn"
   },
   "outputs": [],
   "source": [
    "from keras.preprocessing.image import ImageDataGenerator\n",
    "def runAutoncoder(TrainMat,autoencoder):\n",
    "    \n",
    "    no_epochs = 10\n",
    "    batch = 32\n",
    "    valid_percent = 20\n",
    "    train_len = int(((100-valid_percent)/100)*len(TrainMat))\n",
    "    valid_len = len(TrainMat) - train_len\n",
    " \n",
    "    # construct the training image generator for data augmentation\n",
    "    aug = ImageDataGenerator(rotation_range=20, zoom_range=0.15,\n",
    "        width_shift_range=0.2, height_shift_range=0.2, shear_range=0.15,\n",
    "        horizontal_flip=True, fill_mode=\"nearest\")\n",
    "\n",
    "    valid_gen = aug.flow(TrainMat[valid_len:len(TrainMat)],\n",
    "                     TrainMat[valid_len:len(TrainMat)], batch_size=batch)\n",
    "\n",
    "    # train the network\n",
    "    history = autoencoder.fit_generator(aug.flow(TrainMat[0:train_len], TrainMat[0:train_len], batch_size=batch)\n",
    "        , steps_per_epoch=len(TrainMat[0:train_len]) // batch,\n",
    "        epochs=no_epochs,validation_data=valid_gen,validation_steps=valid_len // batch)\n",
    "    return history,autoencoder"
   ]
  },
  {
   "cell_type": "markdown",
   "metadata": {
    "colab_type": "text",
    "id": "q_UCPWdSGLyq"
   },
   "source": [
    "### SEEN DATASET"
   ]
  },
  {
   "cell_type": "code",
   "execution_count": 57,
   "metadata": {
    "colab": {
     "base_uri": "https://localhost:8080/",
     "height": 68
    },
    "colab_type": "code",
    "id": "MRt7JaxZGLyr",
    "outputId": "397d1138-e348-4fe8-edce-efe6d4b74bce"
   },
   "outputs": [
    {
     "name": "stdout",
     "output_type": "stream",
     "text": [
      "(906, 64, 64, 1)\n",
      "(906, 64, 64, 1)\n",
      "(12846, 64, 64, 1)\n"
     ]
    }
   ],
   "source": [
    "seenLeftImg,seenRightImg,seenTarget = generateValidationSet(seen_validation_data)\n",
    "seenLeftMat,seenRightMat = generateVaildationImageSet(seenValidImagePath,seenLeftImg,seenRightImg)\n",
    "seenTrainMat = generateTraininigImageSet(seenTrainImagePath)"
   ]
  },
  {
   "cell_type": "code",
   "execution_count": 58,
   "metadata": {
    "colab": {
     "base_uri": "https://localhost:8080/",
     "height": 680
    },
    "colab_type": "code",
    "id": "i07s8durGLyu",
    "outputId": "6a74227d-f1f1-4b8d-bdba-61df46825a26"
   },
   "outputs": [
    {
     "name": "stdout",
     "output_type": "stream",
     "text": [
      "_________________________________________________________________\n",
      "Layer (type)                 Output Shape              Param #   \n",
      "=================================================================\n",
      "input_6 (InputLayer)         (None, 64, 64, 1)         0         \n",
      "_________________________________________________________________\n",
      "conv2d_31 (Conv2D)           (None, 64, 64, 16)        160       \n",
      "_________________________________________________________________\n",
      "max_pooling2d_16 (MaxPooling (None, 32, 32, 16)        0         \n",
      "_________________________________________________________________\n",
      "conv2d_32 (Conv2D)           (None, 32, 32, 8)         1160      \n",
      "_________________________________________________________________\n",
      "max_pooling2d_17 (MaxPooling (None, 16, 16, 8)         0         \n",
      "_________________________________________________________________\n",
      "conv2d_33 (Conv2D)           (None, 16, 16, 8)         584       \n",
      "_________________________________________________________________\n",
      "flatten_6 (Flatten)          (None, 2048)              0         \n",
      "_________________________________________________________________\n",
      "latent (Dense)               (None, 512)               1049088   \n",
      "_________________________________________________________________\n",
      "reshape_6 (Reshape)          (None, 8, 8, 8)           0         \n",
      "_________________________________________________________________\n",
      "conv2d_34 (Conv2D)           (None, 8, 8, 8)           584       \n",
      "_________________________________________________________________\n",
      "up_sampling2d_16 (UpSampling (None, 16, 16, 8)         0         \n",
      "_________________________________________________________________\n",
      "conv2d_35 (Conv2D)           (None, 16, 16, 8)         584       \n",
      "_________________________________________________________________\n",
      "up_sampling2d_17 (UpSampling (None, 32, 32, 8)         0         \n",
      "_________________________________________________________________\n",
      "conv2d_36 (Conv2D)           (None, 32, 32, 16)        1168      \n",
      "_________________________________________________________________\n",
      "up_sampling2d_18 (UpSampling (None, 64, 64, 16)        0         \n",
      "_________________________________________________________________\n",
      "output (Conv2D)              (None, 64, 64, 1)         145       \n",
      "=================================================================\n",
      "Total params: 1,053,473\n",
      "Trainable params: 1,053,473\n",
      "Non-trainable params: 0\n",
      "_________________________________________________________________\n"
     ]
    }
   ],
   "source": [
    "seenAutoencoder = createAutoEncoder()"
   ]
  },
  {
   "cell_type": "code",
   "execution_count": 59,
   "metadata": {
    "colab": {
     "base_uri": "https://localhost:8080/",
     "height": 377
    },
    "colab_type": "code",
    "id": "ynzqt_rOGLyx",
    "outputId": "fae0b875-83c5-47af-e428-4184910b2759"
   },
   "outputs": [
    {
     "name": "stdout",
     "output_type": "stream",
     "text": [
      "Epoch 1/10\n",
      "321/321 [==============================] - 13s 39ms/step - loss: 0.2197 - acc: 0.8841 - val_loss: 0.1698 - val_acc: 0.8884\n",
      "Epoch 2/10\n",
      "321/321 [==============================] - 11s 35ms/step - loss: 0.1679 - acc: 0.8884 - val_loss: 0.1660 - val_acc: 0.8884\n",
      "Epoch 3/10\n",
      "321/321 [==============================] - 11s 35ms/step - loss: 0.1659 - acc: 0.8883 - val_loss: 0.1627 - val_acc: 0.8897\n",
      "Epoch 4/10\n",
      "321/321 [==============================] - 11s 35ms/step - loss: 0.1649 - acc: 0.8883 - val_loss: 0.1638 - val_acc: 0.8888\n",
      "Epoch 5/10\n",
      "321/321 [==============================] - 11s 35ms/step - loss: 0.1641 - acc: 0.8883 - val_loss: 0.1642 - val_acc: 0.8876\n",
      "Epoch 6/10\n",
      "321/321 [==============================] - 11s 35ms/step - loss: 0.1629 - acc: 0.8883 - val_loss: 0.1623 - val_acc: 0.8883\n",
      "Epoch 7/10\n",
      "321/321 [==============================] - 11s 35ms/step - loss: 0.1625 - acc: 0.8882 - val_loss: 0.1602 - val_acc: 0.8890\n",
      "Epoch 8/10\n",
      "321/321 [==============================] - 11s 35ms/step - loss: 0.1621 - acc: 0.8882 - val_loss: 0.1600 - val_acc: 0.8895\n",
      "Epoch 9/10\n",
      "321/321 [==============================] - 11s 35ms/step - loss: 0.1614 - acc: 0.8885 - val_loss: 0.1587 - val_acc: 0.8902\n",
      "Epoch 10/10\n",
      "321/321 [==============================] - 11s 35ms/step - loss: 0.1614 - acc: 0.8882 - val_loss: 0.1622 - val_acc: 0.8876\n"
     ]
    }
   ],
   "source": [
    "history,seenTrainedAutoencoder = runAutoncoder(seenTrainMat,seenAutoencoder)"
   ]
  },
  {
   "cell_type": "code",
   "execution_count": 60,
   "metadata": {
    "colab": {
     "base_uri": "https://localhost:8080/",
     "height": 408
    },
    "colab_type": "code",
    "id": "rXem20CAGLy0",
    "outputId": "bbed932e-2fa6-4467-bcf5-3d6a6f159d38"
   },
   "outputs": [
    {
     "name": "stdout",
     "output_type": "stream",
     "text": [
      "_________________________________________________________________\n",
      "Layer (type)                 Output Shape              Param #   \n",
      "=================================================================\n",
      "input_6 (InputLayer)         (None, 64, 64, 1)         0         \n",
      "_________________________________________________________________\n",
      "conv2d_31 (Conv2D)           (None, 64, 64, 16)        160       \n",
      "_________________________________________________________________\n",
      "max_pooling2d_16 (MaxPooling (None, 32, 32, 16)        0         \n",
      "_________________________________________________________________\n",
      "conv2d_32 (Conv2D)           (None, 32, 32, 8)         1160      \n",
      "_________________________________________________________________\n",
      "max_pooling2d_17 (MaxPooling (None, 16, 16, 8)         0         \n",
      "_________________________________________________________________\n",
      "conv2d_33 (Conv2D)           (None, 16, 16, 8)         584       \n",
      "_________________________________________________________________\n",
      "flatten_6 (Flatten)          (None, 2048)              0         \n",
      "_________________________________________________________________\n",
      "latent (Dense)               (None, 512)               1049088   \n",
      "=================================================================\n",
      "Total params: 1,050,992\n",
      "Trainable params: 1,050,992\n",
      "Non-trainable params: 0\n",
      "_________________________________________________________________\n"
     ]
    }
   ],
   "source": [
    "seenEncoder = Model(seenTrainedAutoencoder.inputs, seenTrainedAutoencoder.get_layer('latent').output)\n",
    "seenEncoder.summary()"
   ]
  },
  {
   "cell_type": "code",
   "execution_count": 0,
   "metadata": {
    "colab": {},
    "colab_type": "code",
    "id": "oWzXR_RtGLy4"
   },
   "outputs": [],
   "source": [
    "\n",
    "seen_left_img_encoded = seenEncoder.predict(seenLeftMat)\n",
    "seen_right_img_encoded = seenEncoder.predict(seenRightMat)"
   ]
  },
  {
   "cell_type": "code",
   "execution_count": 0,
   "metadata": {
    "colab": {},
    "colab_type": "code",
    "id": "8o-X5FRGGLy6"
   },
   "outputs": [],
   "source": [
    "def cos_sim(a, b):\n",
    "    dot_product = np.dot(a, b)\n",
    "    norm_a = np.linalg.norm(a)\n",
    "    norm_b = np.linalg.norm(b)\n",
    "    return dot_product / (norm_a * norm_b)"
   ]
  },
  {
   "cell_type": "code",
   "execution_count": 0,
   "metadata": {
    "colab": {},
    "colab_type": "code",
    "id": "C8o4ka3IGLy8",
    "scrolled": true
   },
   "outputs": [],
   "source": [
    "predicted = []\n",
    "from numpy import dot\n",
    "from numpy.linalg import norm\n",
    "for i in range(0,len(seen_left_img_encoded)):\n",
    "    a = seen_left_img_encoded[i]\n",
    "    b = seen_right_img_encoded[i]\n",
    "   \n",
    "    predicted.append(cos_sim(a,b))"
   ]
  },
  {
   "cell_type": "code",
   "execution_count": 0,
   "metadata": {
    "colab": {},
    "colab_type": "code",
    "id": "aHwbq6P9GLy-"
   },
   "outputs": [],
   "source": []
  },
  {
   "cell_type": "code",
   "execution_count": 64,
   "metadata": {
    "colab": {
     "base_uri": "https://localhost:8080/",
     "height": 119
    },
    "colab_type": "code",
    "id": "8s3nesW1GLzA",
    "outputId": "3013f5b5-9d3b-4cf7-d827-5b71721a74b8"
   },
   "outputs": [
    {
     "name": "stdout",
     "output_type": "stream",
     "text": [
      "Seen Training Accuracy : 88.82930089793416\n",
      "Seen Training Loss : 0.16408928409538806\n",
      "Seen Validation Accuracy while training on split data : 88.76195247704383\n",
      "Seen Validation loss while training on split data: 0.1642390755586338\n",
      "Seen Validation/Test Dataset Accuracy: 91.68360062180508\n",
      "Seen Validation/Test Dataset Average Precision Score: 94.10532760350476\n"
     ]
    }
   ],
   "source": [
    "print(\"Seen Training Accuracy : \" + str((history.history['acc'][4])*100))\n",
    "print(\"Seen Training Loss : \" + str((history.history['loss'][4])))\n",
    "print(\"Seen Validation Accuracy while training on split data : \" + str((history.history['val_acc'][4])*100))\n",
    "print(\"Seen Validation loss while training on split data: \" + str((history.history['val_loss'][4])))\n",
    "print(\"Seen Validation/Test Dataset Accuracy: \"+ str(roc_auc_score(seenTarget, predicted)*100))\n",
    "print(\"Seen Validation/Test Dataset Average Precision Score: \"+ str(average_precision_score(seenTarget, predicted)*100))"
   ]
  },
  {
   "cell_type": "code",
   "execution_count": 65,
   "metadata": {
    "colab": {
     "base_uri": "https://localhost:8080/",
     "height": 565
    },
    "colab_type": "code",
    "id": "T6k8ZuhFGLzE",
    "outputId": "a799b58b-224d-4c25-fdeb-3def2aa8897c"
   },
   "outputs": [
    {
     "data": {
      "text/plain": [
       "array([<matplotlib.axes._subplots.AxesSubplot object at 0x7fc3b6261940>],\n",
       "      dtype=object)"
      ]
     },
     "execution_count": 65,
     "metadata": {
      "tags": []
     },
     "output_type": "execute_result"
    },
    {
     "data": {
      "image/png": "[encoded data removed]",
      "text/plain": [
       "<Figure size 432x288 with 1 Axes>"
      ]
     },
     "metadata": {
      "tags": []
     },
     "output_type": "display_data"
    },
    {
     "data": {
      "image/png": "[encoded data removed]",
      "text/plain": [
       "<Figure size 432x288 with 1 Axes>"
      ]
     },
     "metadata": {
      "tags": []
     },
     "output_type": "display_data"
    }
   ],
   "source": [
    "\n",
    "%matplotlib inline\n",
    "df = pd.DataFrame(history.history['acc'])\n",
    "df.plot(subplots=True, grid=True,title='Training Accuracy')\n",
    "df = pd.DataFrame(history.history['loss'])\n",
    "df.plot(subplots=True, grid=True,title='Training loss')"
   ]
  },
  {
   "cell_type": "code",
   "execution_count": 66,
   "metadata": {
    "colab": {
     "base_uri": "https://localhost:8080/",
     "height": 565
    },
    "colab_type": "code",
    "id": "oero7N4WGLzH",
    "outputId": "4ee94569-ee74-484f-8733-41429daa32e2"
   },
   "outputs": [
    {
     "data": {
      "text/plain": [
       "array([<matplotlib.axes._subplots.AxesSubplot object at 0x7fc3b59ff0f0>],\n",
       "      dtype=object)"
      ]
     },
     "execution_count": 66,
     "metadata": {
      "tags": []
     },
     "output_type": "execute_result"
    },
    {
     "data": {
      "image/png": "[encoded data removed]",
      "text/plain": [
       "<Figure size 432x288 with 1 Axes>"
      ]
     },
     "metadata": {
      "tags": []
     },
     "output_type": "display_data"
    },
    {
     "data": {
      "image/png": "[encoded data removed]",
      "text/plain": [
       "<Figure size 432x288 with 1 Axes>"
      ]
     },
     "metadata": {
      "tags": []
     },
     "output_type": "display_data"
    }
   ],
   "source": [
    "\n",
    "%matplotlib inline\n",
    "df = pd.DataFrame(history.history['val_acc'])\n",
    "df.plot(subplots=True, grid=True,title='Validation Accuracy',ylim=(0.88,0.9))\n",
    "df = pd.DataFrame(history.history['val_loss'])\n",
    "df.plot(subplots=True, grid=True,title='Validation loss')"
   ]
  },
  {
   "cell_type": "markdown",
   "metadata": {
    "colab_type": "text",
    "id": "mRh4BoCNGLzL"
   },
   "source": [
    "# SHUFFLED DATASET"
   ]
  },
  {
   "cell_type": "code",
   "execution_count": 40,
   "metadata": {
    "colab": {
     "base_uri": "https://localhost:8080/",
     "height": 68
    },
    "colab_type": "code",
    "id": "R_uTayvuGLzM",
    "outputId": "b0bab031-cbea-4561-c3ad-2ec5b45f50f7"
   },
   "outputs": [
    {
     "name": "stdout",
     "output_type": "stream",
     "text": [
      "(5288, 64, 64, 1)\n",
      "(5288, 64, 64, 1)\n",
      "(11823, 64, 64, 1)\n"
     ]
    }
   ],
   "source": [
    "shuffledLeftImg,shuffledRightImg,shuffledTarget = generateValidationSet(shuffled_validation_data)\n",
    "shuffledLeftMat,shuffledRightMat = generateVaildationImageSet(shuffledValidImagePath,shuffledLeftImg,shuffledRightImg)\n",
    "shuffledTrainMat = generateTraininigImageSet(shuffledTrainImagePath)"
   ]
  },
  {
   "cell_type": "code",
   "execution_count": 49,
   "metadata": {
    "colab": {
     "base_uri": "https://localhost:8080/",
     "height": 680
    },
    "colab_type": "code",
    "id": "K2Yo9f5yGLzP",
    "outputId": "c3f0fb66-6132-4707-fea4-331e32d225e8"
   },
   "outputs": [
    {
     "name": "stdout",
     "output_type": "stream",
     "text": [
      "_________________________________________________________________\n",
      "Layer (type)                 Output Shape              Param #   \n",
      "=================================================================\n",
      "input_5 (InputLayer)         (None, 64, 64, 1)         0         \n",
      "_________________________________________________________________\n",
      "conv2d_25 (Conv2D)           (None, 64, 64, 16)        160       \n",
      "_________________________________________________________________\n",
      "max_pooling2d_13 (MaxPooling (None, 32, 32, 16)        0         \n",
      "_________________________________________________________________\n",
      "conv2d_26 (Conv2D)           (None, 32, 32, 8)         1160      \n",
      "_________________________________________________________________\n",
      "max_pooling2d_14 (MaxPooling (None, 16, 16, 8)         0         \n",
      "_________________________________________________________________\n",
      "conv2d_27 (Conv2D)           (None, 16, 16, 8)         584       \n",
      "_________________________________________________________________\n",
      "flatten_5 (Flatten)          (None, 2048)              0         \n",
      "_________________________________________________________________\n",
      "latent (Dense)               (None, 512)               1049088   \n",
      "_________________________________________________________________\n",
      "reshape_5 (Reshape)          (None, 8, 8, 8)           0         \n",
      "_________________________________________________________________\n",
      "conv2d_28 (Conv2D)           (None, 8, 8, 8)           584       \n",
      "_________________________________________________________________\n",
      "up_sampling2d_13 (UpSampling (None, 16, 16, 8)         0         \n",
      "_________________________________________________________________\n",
      "conv2d_29 (Conv2D)           (None, 16, 16, 8)         584       \n",
      "_________________________________________________________________\n",
      "up_sampling2d_14 (UpSampling (None, 32, 32, 8)         0         \n",
      "_________________________________________________________________\n",
      "conv2d_30 (Conv2D)           (None, 32, 32, 16)        1168      \n",
      "_________________________________________________________________\n",
      "up_sampling2d_15 (UpSampling (None, 64, 64, 16)        0         \n",
      "_________________________________________________________________\n",
      "output (Conv2D)              (None, 64, 64, 1)         145       \n",
      "=================================================================\n",
      "Total params: 1,053,473\n",
      "Trainable params: 1,053,473\n",
      "Non-trainable params: 0\n",
      "_________________________________________________________________\n"
     ]
    }
   ],
   "source": [
    "shuffledAutoencoder = createAutoEncoder()"
   ]
  },
  {
   "cell_type": "code",
   "execution_count": 50,
   "metadata": {
    "colab": {
     "base_uri": "https://localhost:8080/",
     "height": 377
    },
    "colab_type": "code",
    "id": "QD-pfhzQGLzS",
    "outputId": "9090cc5f-01c2-4eab-e1b2-ca65fe62a465"
   },
   "outputs": [
    {
     "name": "stdout",
     "output_type": "stream",
     "text": [
      "Epoch 1/10\n",
      "295/295 [==============================] - 12s 39ms/step - loss: 0.2032 - acc: 0.8885 - val_loss: 0.1627 - val_acc: 0.8921\n",
      "Epoch 2/10\n",
      "295/295 [==============================] - 10s 35ms/step - loss: 0.1621 - acc: 0.8915 - val_loss: 0.1614 - val_acc: 0.8913\n",
      "Epoch 3/10\n",
      "295/295 [==============================] - 10s 35ms/step - loss: 0.1611 - acc: 0.8913 - val_loss: 0.1597 - val_acc: 0.8918\n",
      "Epoch 4/10\n",
      "295/295 [==============================] - 10s 35ms/step - loss: 0.1601 - acc: 0.8913 - val_loss: 0.1582 - val_acc: 0.8916\n",
      "Epoch 5/10\n",
      "295/295 [==============================] - 10s 35ms/step - loss: 0.1593 - acc: 0.8912 - val_loss: 0.1574 - val_acc: 0.8914\n",
      "Epoch 6/10\n",
      "295/295 [==============================] - 10s 35ms/step - loss: 0.1585 - acc: 0.8913 - val_loss: 0.1561 - val_acc: 0.8927\n",
      "Epoch 7/10\n",
      "295/295 [==============================] - 10s 35ms/step - loss: 0.1578 - acc: 0.8913 - val_loss: 0.1574 - val_acc: 0.8912\n",
      "Epoch 8/10\n",
      "295/295 [==============================] - 10s 35ms/step - loss: 0.1577 - acc: 0.8912 - val_loss: 0.1569 - val_acc: 0.8913\n",
      "Epoch 9/10\n",
      "295/295 [==============================] - 10s 35ms/step - loss: 0.1569 - acc: 0.8913 - val_loss: 0.1567 - val_acc: 0.8911\n",
      "Epoch 10/10\n",
      "295/295 [==============================] - 10s 35ms/step - loss: 0.1567 - acc: 0.8911 - val_loss: 0.1548 - val_acc: 0.8917\n"
     ]
    }
   ],
   "source": [
    "shuffledhistory,shuffledTrainedAutoencoder = runAutoncoder(shuffledTrainMat,shuffledAutoencoder)"
   ]
  },
  {
   "cell_type": "code",
   "execution_count": 51,
   "metadata": {
    "colab": {
     "base_uri": "https://localhost:8080/",
     "height": 408
    },
    "colab_type": "code",
    "id": "a4NIH712GLzY",
    "outputId": "83df5a3c-88bf-4cac-eb2e-430582289011"
   },
   "outputs": [
    {
     "name": "stdout",
     "output_type": "stream",
     "text": [
      "_________________________________________________________________\n",
      "Layer (type)                 Output Shape              Param #   \n",
      "=================================================================\n",
      "input_5 (InputLayer)         (None, 64, 64, 1)         0         \n",
      "_________________________________________________________________\n",
      "conv2d_25 (Conv2D)           (None, 64, 64, 16)        160       \n",
      "_________________________________________________________________\n",
      "max_pooling2d_13 (MaxPooling (None, 32, 32, 16)        0         \n",
      "_________________________________________________________________\n",
      "conv2d_26 (Conv2D)           (None, 32, 32, 8)         1160      \n",
      "_________________________________________________________________\n",
      "max_pooling2d_14 (MaxPooling (None, 16, 16, 8)         0         \n",
      "_________________________________________________________________\n",
      "conv2d_27 (Conv2D)           (None, 16, 16, 8)         584       \n",
      "_________________________________________________________________\n",
      "flatten_5 (Flatten)          (None, 2048)              0         \n",
      "_________________________________________________________________\n",
      "latent (Dense)               (None, 512)               1049088   \n",
      "=================================================================\n",
      "Total params: 1,050,992\n",
      "Trainable params: 1,050,992\n",
      "Non-trainable params: 0\n",
      "_________________________________________________________________\n"
     ]
    }
   ],
   "source": [
    "shuffledEncoder = Model(shuffledTrainedAutoencoder.inputs, shuffledTrainedAutoencoder.get_layer('latent').output)\n",
    "shuffledEncoder.summary()"
   ]
  },
  {
   "cell_type": "code",
   "execution_count": 0,
   "metadata": {
    "colab": {},
    "colab_type": "code",
    "id": "wxSYudCEGLzc"
   },
   "outputs": [],
   "source": [
    "\n",
    "shuffled_left_img_encoded = shuffledEncoder.predict(shuffledLeftMat)\n",
    "shuffled_right_img_encoded = shuffledEncoder.predict(shuffledRightMat)"
   ]
  },
  {
   "cell_type": "code",
   "execution_count": 0,
   "metadata": {
    "colab": {},
    "colab_type": "code",
    "id": "ZlU_k2smGLze"
   },
   "outputs": [],
   "source": [
    "shuffledPredicted = []\n",
    "\n",
    "for i in range(0,len(shuffled_left_img_encoded)):\n",
    "    a = shuffled_left_img_encoded[i]\n",
    "    b = shuffled_right_img_encoded[i]\n",
    "   \n",
    "    shuffledPredicted.append(cos_sim(a,b))"
   ]
  },
  {
   "cell_type": "code",
   "execution_count": 54,
   "metadata": {
    "colab": {
     "base_uri": "https://localhost:8080/",
     "height": 119
    },
    "colab_type": "code",
    "id": "-GbIhfQtGLzg",
    "outputId": "bbf9a896-c12c-4678-dadf-7551dda91728"
   },
   "outputs": [
    {
     "name": "stdout",
     "output_type": "stream",
     "text": [
      "shuffled Training Accuracy : 89.12533267070957\n",
      "shuffled Training Loss : 0.159237038613681\n",
      "shuffled Validation Accuracy while training on split data : 89.13931701329122\n",
      "shuffled Validation loss while training on split data: 0.15739646842775418\n",
      "shuffled Validation/Test Dataset Accuracy: 79.05288513255256\n",
      "shuffled Validation/Test Dataset Average Precision Score: 79.62750603975344\n"
     ]
    }
   ],
   "source": [
    "print(\"shuffled Training Accuracy : \" + str((shuffledhistory.history['acc'][4])*100))\n",
    "print(\"shuffled Training Loss : \" + str((shuffledhistory.history['loss'][4])))\n",
    "print(\"shuffled Validation Accuracy while training on split data : \" + str((shuffledhistory.history['val_acc'][4])*100))\n",
    "print(\"shuffled Validation loss while training on split data: \" + str((shuffledhistory.history['val_loss'][4])))\n",
    "print(\"shuffled Validation/Test Dataset Accuracy: \"+ str(roc_auc_score(shuffledTarget, shuffledPredicted)*100))\n",
    "print(\"shuffled Validation/Test Dataset Average Precision Score: \"+\n",
    "      str(average_precision_score(shuffledTarget, shuffledPredicted)*100))"
   ]
  },
  {
   "cell_type": "code",
   "execution_count": 55,
   "metadata": {
    "colab": {
     "base_uri": "https://localhost:8080/",
     "height": 565
    },
    "colab_type": "code",
    "id": "LLkY9ympGLzi",
    "outputId": "ac8a439f-c67e-4243-e831-09e55bb818ca"
   },
   "outputs": [
    {
     "data": {
      "text/plain": [
       "array([<matplotlib.axes._subplots.AxesSubplot object at 0x7fc3b6bc75f8>],\n",
       "      dtype=object)"
      ]
     },
     "execution_count": 55,
     "metadata": {
      "tags": []
     },
     "output_type": "execute_result"
    },
    {
     "data": {
      "image/png": "[encoded data removed]",
      "text/plain": [
       "<Figure size 432x288 with 1 Axes>"
      ]
     },
     "metadata": {
      "tags": []
     },
     "output_type": "display_data"
    },
    {
     "data": {
      "image/png": "[encoded data removed]",
      "text/plain": [
       "<Figure size 432x288 with 1 Axes>"
      ]
     },
     "metadata": {
      "tags": []
     },
     "output_type": "display_data"
    }
   ],
   "source": [
    "\n",
    "%matplotlib inline\n",
    "df = pd.DataFrame(shuffledhistory.history['acc'])\n",
    "df.plot(subplots=True, grid=True,title='Training Accuracy')\n",
    "df = pd.DataFrame(shuffledhistory.history['loss'])\n",
    "df.plot(subplots=True, grid=True,title='Training loss')"
   ]
  },
  {
   "cell_type": "code",
   "execution_count": 56,
   "metadata": {
    "colab": {
     "base_uri": "https://localhost:8080/",
     "height": 565
    },
    "colab_type": "code",
    "id": "kRe05LrjGLzm",
    "outputId": "7bd35cf0-97ce-4cf9-e258-bb0143b7f2af"
   },
   "outputs": [
    {
     "data": {
      "text/plain": [
       "array([<matplotlib.axes._subplots.AxesSubplot object at 0x7fc3b6baf240>],\n",
       "      dtype=object)"
      ]
     },
     "execution_count": 56,
     "metadata": {
      "tags": []
     },
     "output_type": "execute_result"
    },
    {
     "data": {
      "image/png": "[encoded data removed]",
      "text/plain": [
       "<Figure size 432x288 with 1 Axes>"
      ]
     },
     "metadata": {
      "tags": []
     },
     "output_type": "display_data"
    },
    {
     "data": {
      "image/png": "[encoded data removed]",
      "text/plain": [
       "<Figure size 432x288 with 1 Axes>"
      ]
     },
     "metadata": {
      "tags": []
     },
     "output_type": "display_data"
    }
   ],
   "source": [
    "\n",
    "%matplotlib inline\n",
    "df = pd.DataFrame(shuffledhistory.history['val_acc'])\n",
    "df.plot(subplots=True, grid=True,title='Validation Accuracy',ylim=(0.88,0.9))\n",
    "df = pd.DataFrame(shuffledhistory.history['val_loss'])\n",
    "df.plot(subplots=True, grid=True,title='Validation loss')"
   ]
  },
  {
   "cell_type": "markdown",
   "metadata": {
    "colab_type": "text",
    "id": "RVEf2YnMGLzp"
   },
   "source": [
    "# UNSEEN DATASET"
   ]
  },
  {
   "cell_type": "code",
   "execution_count": 67,
   "metadata": {
    "colab": {
     "base_uri": "https://localhost:8080/",
     "height": 68
    },
    "colab_type": "code",
    "id": "X0CtKlBzGLzq",
    "outputId": "5841dc17-59bb-4f8e-faf8-70b2e840fa1c"
   },
   "outputs": [
    {
     "name": "stdout",
     "output_type": "stream",
     "text": [
      "(7580, 64, 64, 1)\n",
      "(7580, 64, 64, 1)\n",
      "(12906, 64, 64, 1)\n"
     ]
    }
   ],
   "source": [
    "unseenLeftImg,unseenRightImg,unseenTarget = generateValidationSet(unseen_validation_data)\n",
    "unseenLeftMat,unseenRightMat = generateVaildationImageSet(unseenValidImagePath,unseenLeftImg,unseenRightImg)\n",
    "unseenTrainMat = generateTraininigImageSet(unseenTrainImagePath)"
   ]
  },
  {
   "cell_type": "code",
   "execution_count": 68,
   "metadata": {
    "colab": {
     "base_uri": "https://localhost:8080/",
     "height": 680
    },
    "colab_type": "code",
    "id": "nsNeZfTjGLzs",
    "outputId": "91adcf6f-e81a-4583-e779-e23f875ad93b"
   },
   "outputs": [
    {
     "name": "stdout",
     "output_type": "stream",
     "text": [
      "_________________________________________________________________\n",
      "Layer (type)                 Output Shape              Param #   \n",
      "=================================================================\n",
      "input_7 (InputLayer)         (None, 64, 64, 1)         0         \n",
      "_________________________________________________________________\n",
      "conv2d_37 (Conv2D)           (None, 64, 64, 16)        160       \n",
      "_________________________________________________________________\n",
      "max_pooling2d_19 (MaxPooling (None, 32, 32, 16)        0         \n",
      "_________________________________________________________________\n",
      "conv2d_38 (Conv2D)           (None, 32, 32, 8)         1160      \n",
      "_________________________________________________________________\n",
      "max_pooling2d_20 (MaxPooling (None, 16, 16, 8)         0         \n",
      "_________________________________________________________________\n",
      "conv2d_39 (Conv2D)           (None, 16, 16, 8)         584       \n",
      "_________________________________________________________________\n",
      "flatten_7 (Flatten)          (None, 2048)              0         \n",
      "_________________________________________________________________\n",
      "latent (Dense)               (None, 512)               1049088   \n",
      "_________________________________________________________________\n",
      "reshape_7 (Reshape)          (None, 8, 8, 8)           0         \n",
      "_________________________________________________________________\n",
      "conv2d_40 (Conv2D)           (None, 8, 8, 8)           584       \n",
      "_________________________________________________________________\n",
      "up_sampling2d_19 (UpSampling (None, 16, 16, 8)         0         \n",
      "_________________________________________________________________\n",
      "conv2d_41 (Conv2D)           (None, 16, 16, 8)         584       \n",
      "_________________________________________________________________\n",
      "up_sampling2d_20 (UpSampling (None, 32, 32, 8)         0         \n",
      "_________________________________________________________________\n",
      "conv2d_42 (Conv2D)           (None, 32, 32, 16)        1168      \n",
      "_________________________________________________________________\n",
      "up_sampling2d_21 (UpSampling (None, 64, 64, 16)        0         \n",
      "_________________________________________________________________\n",
      "output (Conv2D)              (None, 64, 64, 1)         145       \n",
      "=================================================================\n",
      "Total params: 1,053,473\n",
      "Trainable params: 1,053,473\n",
      "Non-trainable params: 0\n",
      "_________________________________________________________________\n"
     ]
    }
   ],
   "source": [
    "unseenAutoencoder = createAutoEncoder()"
   ]
  },
  {
   "cell_type": "code",
   "execution_count": 69,
   "metadata": {
    "colab": {
     "base_uri": "https://localhost:8080/",
     "height": 377
    },
    "colab_type": "code",
    "id": "jCYrn3QWGLzv",
    "outputId": "28dea3b4-7bca-4a58-9665-fb5891d04e8d"
   },
   "outputs": [
    {
     "name": "stdout",
     "output_type": "stream",
     "text": [
      "Epoch 1/10\n",
      "322/322 [==============================] - 13s 39ms/step - loss: 0.2044 - acc: 0.8853 - val_loss: 0.1687 - val_acc: 0.8883\n",
      "Epoch 2/10\n",
      "322/322 [==============================] - 11s 35ms/step - loss: 0.1684 - acc: 0.8877 - val_loss: 0.1653 - val_acc: 0.8885\n",
      "Epoch 3/10\n",
      "322/322 [==============================] - 11s 35ms/step - loss: 0.1673 - acc: 0.8877 - val_loss: 0.1664 - val_acc: 0.8876\n",
      "Epoch 4/10\n",
      "322/322 [==============================] - 11s 35ms/step - loss: 0.1664 - acc: 0.8878 - val_loss: 0.1651 - val_acc: 0.8881\n",
      "Epoch 5/10\n",
      "322/322 [==============================] - 11s 35ms/step - loss: 0.1655 - acc: 0.8878 - val_loss: 0.1640 - val_acc: 0.8888\n",
      "Epoch 6/10\n",
      "322/322 [==============================] - 11s 35ms/step - loss: 0.1655 - acc: 0.8876 - val_loss: 0.1649 - val_acc: 0.8877\n",
      "Epoch 7/10\n",
      "322/322 [==============================] - 11s 34ms/step - loss: 0.1643 - acc: 0.8878 - val_loss: 0.1634 - val_acc: 0.8877\n",
      "Epoch 8/10\n",
      "322/322 [==============================] - 11s 34ms/step - loss: 0.1638 - acc: 0.8877 - val_loss: 0.1622 - val_acc: 0.8884\n",
      "Epoch 9/10\n",
      "322/322 [==============================] - 11s 34ms/step - loss: 0.1631 - acc: 0.8878 - val_loss: 0.1622 - val_acc: 0.8882\n",
      "Epoch 10/10\n",
      "322/322 [==============================] - 11s 35ms/step - loss: 0.1628 - acc: 0.8876 - val_loss: 0.1610 - val_acc: 0.8882\n"
     ]
    }
   ],
   "source": [
    "unseenhistory,unseenTrainedAutoencoder = runAutoncoder(unseenTrainMat,unseenAutoencoder)"
   ]
  },
  {
   "cell_type": "code",
   "execution_count": 70,
   "metadata": {
    "colab": {
     "base_uri": "https://localhost:8080/",
     "height": 408
    },
    "colab_type": "code",
    "id": "xL97BHF7GLzx",
    "outputId": "90089c48-e5e0-44d2-f9d0-1314f27a546b"
   },
   "outputs": [
    {
     "name": "stdout",
     "output_type": "stream",
     "text": [
      "_________________________________________________________________\n",
      "Layer (type)                 Output Shape              Param #   \n",
      "=================================================================\n",
      "input_7 (InputLayer)         (None, 64, 64, 1)         0         \n",
      "_________________________________________________________________\n",
      "conv2d_37 (Conv2D)           (None, 64, 64, 16)        160       \n",
      "_________________________________________________________________\n",
      "max_pooling2d_19 (MaxPooling (None, 32, 32, 16)        0         \n",
      "_________________________________________________________________\n",
      "conv2d_38 (Conv2D)           (None, 32, 32, 8)         1160      \n",
      "_________________________________________________________________\n",
      "max_pooling2d_20 (MaxPooling (None, 16, 16, 8)         0         \n",
      "_________________________________________________________________\n",
      "conv2d_39 (Conv2D)           (None, 16, 16, 8)         584       \n",
      "_________________________________________________________________\n",
      "flatten_7 (Flatten)          (None, 2048)              0         \n",
      "_________________________________________________________________\n",
      "latent (Dense)               (None, 512)               1049088   \n",
      "=================================================================\n",
      "Total params: 1,050,992\n",
      "Trainable params: 1,050,992\n",
      "Non-trainable params: 0\n",
      "_________________________________________________________________\n"
     ]
    }
   ],
   "source": [
    "unseenEncoder = Model(unseenTrainedAutoencoder.inputs, unseenTrainedAutoencoder.get_layer('latent').output)\n",
    "unseenEncoder.summary()\n",
    "\n"
   ]
  },
  {
   "cell_type": "code",
   "execution_count": 0,
   "metadata": {
    "colab": {},
    "colab_type": "code",
    "id": "o-laqdjyJQhW"
   },
   "outputs": [],
   "source": [
    "unseen_left_img_encoded = unseenEncoder.predict(unseenLeftMat)\n",
    "unseen_right_img_encoded = unseenEncoder.predict(unseenRightMat)"
   ]
  },
  {
   "cell_type": "code",
   "execution_count": 0,
   "metadata": {
    "colab": {},
    "colab_type": "code",
    "id": "Ev3ImIfpIbgB"
   },
   "outputs": [],
   "source": [
    "unseenPredicted = []\n",
    "\n",
    "for i in range(0,len(unseen_left_img_encoded)):\n",
    "    a = unseen_left_img_encoded[i]\n",
    "    b = unseen_right_img_encoded[i]\n",
    "   \n",
    "    unseenPredicted.append(cos_sim(a,b))"
   ]
  },
  {
   "cell_type": "code",
   "execution_count": 0,
   "metadata": {
    "colab": {},
    "colab_type": "code",
    "id": "i1dwJ4ooIoAf"
   },
   "outputs": [],
   "source": []
  },
  {
   "cell_type": "code",
   "execution_count": 73,
   "metadata": {
    "colab": {
     "base_uri": "https://localhost:8080/",
     "height": 119
    },
    "colab_type": "code",
    "id": "pxGRol1gJDLc",
    "outputId": "fd77b413-4d52-41d7-a1e9-9a5765628ca6"
   },
   "outputs": [
    {
     "name": "stdout",
     "output_type": "stream",
     "text": [
      "unseen Training Accuracy : 88.77698688992628\n",
      "unseen Training Loss : 0.16553488468734662\n",
      "unseen Validation Accuracy while training on split data : 88.88240318096227\n",
      "unseen Validation loss while training on split data: 0.16399267519381208\n",
      "unseen Validation/Test Dataset Accuracy: 76.93016617818034\n",
      "unseen Validation/Test Dataset Average Precision Score: 80.04837068080845\n"
     ]
    }
   ],
   "source": [
    "print(\"unseen Training Accuracy : \" + str((unseenhistory.history['acc'][4])*100))\n",
    "print(\"unseen Training Loss : \" + str((unseenhistory.history['loss'][4])))\n",
    "print(\"unseen Validation Accuracy while training on split data : \" + str((unseenhistory.history['val_acc'][4])*100))\n",
    "print(\"unseen Validation loss while training on split data: \" + str((unseenhistory.history['val_loss'][4])))\n",
    "print(\"unseen Validation/Test Dataset Accuracy: \"+ str(roc_auc_score(unseenTarget, unseenPredicted)*100))\n",
    "print(\"unseen Validation/Test Dataset Average Precision Score: \"+\n",
    "      str(average_precision_score(unseenTarget, unseenPredicted)*100))"
   ]
  },
  {
   "cell_type": "code",
   "execution_count": 74,
   "metadata": {
    "colab": {
     "base_uri": "https://localhost:8080/",
     "height": 565
    },
    "colab_type": "code",
    "id": "vmRzqgoEKDd7",
    "outputId": "79b8fba0-678a-402e-ca2f-3f169e96175f"
   },
   "outputs": [
    {
     "data": {
      "text/plain": [
       "array([<matplotlib.axes._subplots.AxesSubplot object at 0x7fc3b58c6828>],\n",
       "      dtype=object)"
      ]
     },
     "execution_count": 74,
     "metadata": {
      "tags": []
     },
     "output_type": "execute_result"
    },
    {
     "data": {
      "image/png": "[encoded data removed]",
      "text/plain": [
       "<Figure size 432x288 with 1 Axes>"
      ]
     },
     "metadata": {
      "tags": []
     },
     "output_type": "display_data"
    },
    {
     "data": {
      "image/png": "[encoded data removed]",
      "text/plain": [
       "<Figure size 432x288 with 1 Axes>"
      ]
     },
     "metadata": {
      "tags": []
     },
     "output_type": "display_data"
    }
   ],
   "source": [
    "\n",
    "%matplotlib inline\n",
    "df = pd.DataFrame(unseenhistory.history['acc'])\n",
    "df.plot(subplots=True, grid=True,title='Training Accuracy')\n",
    "df = pd.DataFrame(unseenhistory.history['loss'])\n",
    "df.plot(subplots=True, grid=True,title='Training loss')"
   ]
  },
  {
   "cell_type": "code",
   "execution_count": 75,
   "metadata": {
    "colab": {
     "base_uri": "https://localhost:8080/",
     "height": 565
    },
    "colab_type": "code",
    "id": "U2_hMPVvKMyP",
    "outputId": "18c1cbf9-5f5f-4473-e468-de42309a03e0"
   },
   "outputs": [
    {
     "data": {
      "text/plain": [
       "array([<matplotlib.axes._subplots.AxesSubplot object at 0x7fc39bf10048>],\n",
       "      dtype=object)"
      ]
     },
     "execution_count": 75,
     "metadata": {
      "tags": []
     },
     "output_type": "execute_result"
    },
    {
     "data": {
      "image/png": "[encoded data removed]",
      "text/plain": [
       "<Figure size 432x288 with 1 Axes>"
      ]
     },
     "metadata": {
      "tags": []
     },
     "output_type": "display_data"
    },
    {
     "data": {
      "image/png": "[encoded data removed]",
      "text/plain": [
       "<Figure size 432x288 with 1 Axes>"
      ]
     },
     "metadata": {
      "tags": []
     },
     "output_type": "display_data"
    }
   ],
   "source": [
    "\n",
    "%matplotlib inline\n",
    "df = pd.DataFrame(unseenhistory.history['val_acc'])\n",
    "df.plot(subplots=True, grid=True,title='Validation Accuracy',ylim=(0.88,0.9))\n",
    "df = pd.DataFrame(unseenhistory.history['val_loss'])\n",
    "df.plot(subplots=True, grid=True,title='Validation loss')"
   ]
  },
  {
   "cell_type": "code",
   "execution_count": 0,
   "metadata": {
    "colab": {},
    "colab_type": "code",
    "id": "bRVgn1ipKZrm"
   },
   "outputs": [],
   "source": []
  }
 ],
 "metadata": {
  "accelerator": "GPU",
  "colab": {
   "name": "Project2_task3.ipynb",
   "provenance": [],
   "toc_visible": true,
   "version": "0.3.2"
  },
  "kernelspec": {
   "display_name": "Python 3",
   "language": "python",
   "name": "python3"
  },
  "language_info": {
   "codemirror_mode": {
    "name": "ipython",
    "version": 3
   },
   "file_extension": ".py",
   "mimetype": "text/x-python",
   "name": "python",
   "nbconvert_exporter": "python",
   "pygments_lexer": "ipython3",
   "version": "3.6.8"
  }
 },
 "nbformat": 4,
 "nbformat_minor": 1
}
