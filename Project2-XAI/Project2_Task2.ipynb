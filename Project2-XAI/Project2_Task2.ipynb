{
  "nbformat": 4,
  "nbformat_minor": 0,
  "metadata": {
    "colab": {
      "name": "Project2_Task4_PGM.ipynb",
      "version": "0.3.2",
      "provenance": []
    },
    "kernelspec": {
      "name": "python3",
      "display_name": "Python 3"
    },
    "accelerator": "TPU"
  },
  "cells": [
    {
      "metadata": {
        "id": "khYIoF0siQka",
        "colab_type": "code",
        "colab": {
          "base_uri": "https://localhost:8080/",
          "height": 309
        },
        "outputId": "9703d63a-abe8-4dd2-e2ea-fcd16a7cd660"
      },
      "cell_type": "code",
      "source": [
        "!pip install pgmpy"
      ],
      "execution_count": 4,
      "outputs": [
        {
          "output_type": "stream",
          "text": [
            "Collecting pgmpy\n",
            "\u001b[?25l  Downloading https://files.pythonhosted.org/packages/7d/08/e4133e10117f01b966ce4f89b13bcb423115466434f6fd32a9cf437412c3/pgmpy-0.1.7-py3-none-any.whl (288kB)\n",
            "\u001b[K    100% |████████████████████████████████| 296kB 7.7MB/s \n",
            "\u001b[?25hRequirement already satisfied: numpy>=1.14.0 in /usr/local/lib/python3.6/dist-packages (from pgmpy) (1.14.6)\n",
            "Collecting networkx<1.12,>=1.11 (from pgmpy)\n",
            "\u001b[?25l  Downloading https://files.pythonhosted.org/packages/d3/2c/e473e54afc9fae58dfa97066ef6709a7e35a1dd1c28c5a3842989322be00/networkx-1.11-py2.py3-none-any.whl (1.3MB)\n",
            "\u001b[K    100% |████████████████████████████████| 1.3MB 13.1MB/s \n",
            "\u001b[?25hRequirement already satisfied: scipy>=1.0.0 in /usr/local/lib/python3.6/dist-packages (from pgmpy) (1.1.0)\n",
            "Requirement already satisfied: decorator>=3.4.0 in /usr/local/lib/python3.6/dist-packages (from networkx<1.12,>=1.11->pgmpy) (4.4.0)\n",
            "\u001b[31mimgaug 0.2.8 has requirement numpy>=1.15.0, but you'll have numpy 1.14.6 which is incompatible.\u001b[0m\n",
            "\u001b[31malbumentations 0.1.12 has requirement imgaug<0.2.7,>=0.2.5, but you'll have imgaug 0.2.8 which is incompatible.\u001b[0m\n",
            "Installing collected packages: networkx, pgmpy\n",
            "  Found existing installation: networkx 2.2\n",
            "    Uninstalling networkx-2.2:\n",
            "      Successfully uninstalled networkx-2.2\n",
            "Successfully installed networkx-1.11 pgmpy-0.1.7\n"
          ],
          "name": "stdout"
        }
      ]
    },
    {
      "metadata": {
        "id": "AuvXzhNDibXw",
        "colab_type": "code",
        "colab": {}
      },
      "cell_type": "code",
      "source": [
        "import numpy as np\n",
        "import pandas as pd\n",
        "from pgmpy.estimators import HillClimbSearch\n",
        "from pgmpy.estimators import K2Score\n",
        "from pgmpy.models.BayesianModel import BayesianModel\n",
        "from sklearn.utils import shuffle\n",
        "from IPython.core.interactiveshell import InteractiveShell\n",
        "InteractiveShell.ast_node_interactivity = \"all\"\n",
        "from pgmpy.factors.discrete import TabularCPD\n",
        "from pgmpy.sampling import BayesianModelSampling\n",
        "from pgmpy.models import BayesianModel\n",
        "from pgmpy.estimators import K2Score\n",
        "from pgmpy.inference import VariableElimination\n",
        "import matplotlib.pyplot as plt\n",
        "import networkx as nx\n",
        "from IPython.display import Image\n",
        "from pgmpy.estimators import HillClimbSearch"
      ],
      "execution_count": 0,
      "outputs": []
    },
    {
      "metadata": {
        "id": "mRf99lxtioF4",
        "colab_type": "code",
        "colab": {}
      },
      "cell_type": "code",
      "source": [
        "seen_data = \"seen-dataset/dataset_seen_training_siamese.csv\"\n",
        "seen_validation_data = \"seen-dataset/dataset_seen_validation_siamese.csv\"\n",
        "seenValidImagePath  = 'seen-dataset/ValidationSet/'\n",
        "seenTrainImagePath = 'seen-dataset/TrainingSet/'\n",
        "shuffled_data = \"shuffled-dataset/dataset_seen_training_siamese.csv\"\n",
        "shuffled_validation_data = \"shuffled-dataset/dataset_seen_validation_siamese.csv\"\n",
        "shuffledValidImagePath  = 'shuffled-dataset/ValidationSet/'\n",
        "shuffledTrainImagePath = 'shuffled-dataset/TrainingSet/'\n",
        "unseen_data = \"unseen-dataset/dataset_seen_training_siamese.csv\"\n",
        "unseen_validation_data = \"unseen-dataset/dataset_seen_validation_siamese.csv\"\n",
        "unseenValidImagePath  = 'unseen-dataset/ValidationSet/'\n",
        "unseenTrainImagePath = 'unseen-dataset/TrainingSet/'"
      ],
      "execution_count": 0,
      "outputs": []
    },
    {
      "metadata": {
        "id": "nA1ofOCriokY",
        "colab_type": "code",
        "colab": {}
      },
      "cell_type": "code",
      "source": [
        "andTable1 = pd.read_csv(\"15features.csv\")\n",
        "andTable2 = pd.read_csv(\"15features.csv\")\n",
        "leftAndTable = andTable1.iloc[:,1:]\n",
        "rightAndTable = andTable2.iloc[:,1:]\n",
        "\n",
        "for i in range(0,len(leftAndTable.columns.values)):\n",
        "    leftAndTable.columns.values[i] = 'left_'+ leftAndTable.columns.values[i] \n",
        "\n",
        "for i in range(0,len(rightAndTable.columns.values)):\n",
        "    rightAndTable.columns.values[i] = 'right_'+ rightAndTable.columns.values[i]"
      ],
      "execution_count": 0,
      "outputs": []
    },
    {
      "metadata": {
        "id": "3kE8XZl3TPwT",
        "colab_type": "code",
        "colab": {
          "base_uri": "https://localhost:8080/",
          "height": 71
        },
        "outputId": "998e848d-a487-4e0d-8d15-fb38f1a1f740"
      },
      "cell_type": "code",
      "source": [
        "hc = HillClimbSearch(leftAndTable, scoring_method=K2Score(leftAndTable))\n",
        "left_model = hc.estimate()\n",
        "print(left_model.edges())\n",
        "\n",
        "k2= K2Score(leftAndTable)\n",
        "print(k2.score(left_model))\n"
      ],
      "execution_count": 36,
      "outputs": [
        {
          "output_type": "stream",
          "text": [
            "[('left_pen_pressure', 'left_is_lowercase'), ('left_pen_pressure', 'left_letter_spacing'), ('left_size', 'left_slantness'), ('left_size', 'left_pen_pressure'), ('left_size', 'left_staff_of_d'), ('left_size', 'left_letter_spacing'), ('left_size', 'left_exit_stroke_d'), ('left_size', 'left_entry_stroke_a'), ('left_dimension', 'left_size'), ('left_dimension', 'left_is_continuous'), ('left_dimension', 'left_slantness'), ('left_dimension', 'left_pen_pressure'), ('left_is_lowercase', 'left_staff_of_a'), ('left_is_lowercase', 'left_exit_stroke_d'), ('left_is_continuous', 'left_exit_stroke_d'), ('left_is_continuous', 'left_letter_spacing'), ('left_is_continuous', 'left_entry_stroke_a'), ('left_is_continuous', 'left_staff_of_a'), ('left_is_continuous', 'left_is_lowercase'), ('left_slantness', 'left_is_continuous'), ('left_slantness', 'left_tilt'), ('left_entry_stroke_a', 'left_pen_pressure'), ('left_formation_n', 'left_constancy'), ('left_formation_n', 'left_word_formation'), ('left_formation_n', 'left_dimension'), ('left_formation_n', 'left_staff_of_d'), ('left_formation_n', 'left_is_continuous'), ('left_formation_n', 'left_size'), ('left_formation_n', 'left_staff_of_a'), ('left_staff_of_d', 'left_is_continuous'), ('left_staff_of_d', 'left_exit_stroke_d'), ('left_staff_of_d', 'left_is_lowercase'), ('left_staff_of_d', 'left_slantness'), ('left_staff_of_d', 'left_entry_stroke_a'), ('left_word_formation', 'left_dimension'), ('left_word_formation', 'left_staff_of_a'), ('left_word_formation', 'left_size'), ('left_word_formation', 'left_staff_of_d'), ('left_word_formation', 'left_constancy'), ('left_constancy', 'left_staff_of_a'), ('left_constancy', 'left_letter_spacing'), ('left_constancy', 'left_dimension')]\n",
            "-139940.6025016286\n"
          ],
          "name": "stdout"
        }
      ]
    },
    {
      "metadata": {
        "id": "W6hQz3RMTRsX",
        "colab_type": "code",
        "colab": {
          "base_uri": "https://localhost:8080/",
          "height": 71
        },
        "outputId": "b5d745e8-8508-4520-fd28-12f3697755eb"
      },
      "cell_type": "code",
      "source": [
        "hc = HillClimbSearch(rightAndTable, scoring_method=K2Score(rightAndTable))\n",
        "right_model = hc.estimate()\n",
        "print(right_model.edges())\n",
        "\n",
        "k2= K2Score(rightAndTable)\n",
        "print(k2.score(right_model))"
      ],
      "execution_count": 37,
      "outputs": [
        {
          "output_type": "stream",
          "text": [
            "[('right_pen_pressure', 'right_is_lowercase'), ('right_pen_pressure', 'right_letter_spacing'), ('right_size', 'right_slantness'), ('right_size', 'right_pen_pressure'), ('right_size', 'right_staff_of_d'), ('right_size', 'right_letter_spacing'), ('right_size', 'right_exit_stroke_d'), ('right_size', 'right_entry_stroke_a'), ('right_dimension', 'right_size'), ('right_dimension', 'right_is_continuous'), ('right_dimension', 'right_slantness'), ('right_dimension', 'right_pen_pressure'), ('right_is_lowercase', 'right_staff_of_a'), ('right_is_lowercase', 'right_exit_stroke_d'), ('right_is_continuous', 'right_exit_stroke_d'), ('right_is_continuous', 'right_letter_spacing'), ('right_is_continuous', 'right_entry_stroke_a'), ('right_is_continuous', 'right_staff_of_a'), ('right_is_continuous', 'right_is_lowercase'), ('right_slantness', 'right_is_continuous'), ('right_slantness', 'right_tilt'), ('right_entry_stroke_a', 'right_pen_pressure'), ('right_formation_n', 'right_constancy'), ('right_formation_n', 'right_word_formation'), ('right_formation_n', 'right_dimension'), ('right_formation_n', 'right_staff_of_d'), ('right_formation_n', 'right_is_continuous'), ('right_formation_n', 'right_size'), ('right_formation_n', 'right_staff_of_a'), ('right_staff_of_d', 'right_is_continuous'), ('right_staff_of_d', 'right_exit_stroke_d'), ('right_staff_of_d', 'right_is_lowercase'), ('right_staff_of_d', 'right_slantness'), ('right_staff_of_d', 'right_entry_stroke_a'), ('right_word_formation', 'right_dimension'), ('right_word_formation', 'right_staff_of_a'), ('right_word_formation', 'right_size'), ('right_word_formation', 'right_staff_of_d'), ('right_word_formation', 'right_constancy'), ('right_constancy', 'right_staff_of_a'), ('right_constancy', 'right_letter_spacing'), ('right_constancy', 'right_dimension')]\n",
            "-139940.6025016286\n"
          ],
          "name": "stdout"
        }
      ]
    },
    {
      "metadata": {
        "id": "Pn7laYRzkp7T",
        "colab_type": "code",
        "colab": {}
      },
      "cell_type": "code",
      "source": [
        "def getNewBayesianModel():\n",
        "    newBayesianModel = BayesianModel([('left_pen_pressure', 'left_is_lowercase'), ('left_pen_pressure', 'left_letter_spacing'), \n",
        "                                  ('left_size', 'left_slantness'), ('left_size', 'left_pen_pressure'), ('left_size', 'left_staff_of_d'), \n",
        "                                  ('left_size', 'left_letter_spacing'), ('left_size', 'left_exit_stroke_d'), ('left_size', 'left_entry_stroke_a'), \n",
        "                                  ('left_dimension', 'left_size'), ('left_dimension', 'left_is_continuous'), ('left_dimension', 'left_slantness'), \n",
        "                                  ('left_dimension', 'left_pen_pressure'), ('left_is_lowercase', 'left_staff_of_a'), \n",
        "                                  ('left_is_lowercase', 'left_exit_stroke_d'), ('left_is_continuous', 'left_exit_stroke_d'),\n",
        "                                  ('left_is_continuous', 'left_letter_spacing'), ('left_is_continuous', 'left_entry_stroke_a'), \n",
        "                                  ('left_is_continuous', 'left_staff_of_a'),\n",
        "                                  ('left_is_continuous', 'left_is_lowercase'), ('left_slantness', 'left_is_continuous'),\n",
        "                                  ('left_slantness', 'left_tilt'), ('left_entry_stroke_a', 'left_pen_pressure'), \n",
        "                                  ('left_formation_n', 'left_constancy'), ('left_formation_n', 'left_word_formation'),\n",
        "                                  ('left_formation_n', 'left_dimension'), ('left_formation_n', 'left_staff_of_d'),\n",
        "                                  ('left_formation_n', 'left_is_continuous'), ('left_formation_n', 'left_size'), \n",
        "                                  ('left_formation_n', 'left_staff_of_a'), ('left_staff_of_d', 'left_is_continuous'), \n",
        "                                  ('left_staff_of_d', 'left_exit_stroke_d'), ('left_staff_of_d', 'left_is_lowercase'), \n",
        "                                  ('left_staff_of_d', 'left_slantness'), ('left_staff_of_d', 'left_entry_stroke_a'), \n",
        "                                  ('left_word_formation', 'left_dimension'), ('left_word_formation', 'left_staff_of_a'), \n",
        "                                  ('left_word_formation', 'left_size'), ('left_word_formation', 'left_staff_of_d'), \n",
        "                                  ('left_word_formation', 'left_constancy'), ('left_constancy', 'left_staff_of_a'), \n",
        "                                  ('left_constancy', 'left_letter_spacing'), ('left_constancy', 'left_dimension'),\n",
        "                                 ('right_pen_pressure', 'right_is_lowercase'), ('right_pen_pressure', 'right_letter_spacing'), ('right_size', 'right_slantness'), ('right_size', 'right_pen_pressure'), ('right_size', 'right_staff_of_d'), ('right_size', 'right_letter_spacing'), ('right_size', 'right_exit_stroke_d'), ('right_size', 'right_entry_stroke_a'), ('right_dimension', 'right_size'), ('right_dimension', 'right_is_continuous'), ('right_dimension', 'right_slantness'), ('right_dimension', 'right_pen_pressure'), ('right_is_lowercase', 'right_staff_of_a'), ('right_is_lowercase', 'right_exit_stroke_d'), ('right_is_continuous', 'right_exit_stroke_d'), ('right_is_continuous', 'right_letter_spacing'), ('right_is_continuous', 'right_entry_stroke_a'), ('right_is_continuous', 'right_staff_of_a'), ('right_is_continuous', 'right_is_lowercase'), ('right_slantness', 'right_is_continuous'), ('right_slantness', 'right_tilt'), ('right_entry_stroke_a', 'right_pen_pressure'), ('right_formation_n', 'right_constancy'), ('right_formation_n', 'right_word_formation'), ('right_formation_n', 'right_dimension'), ('right_formation_n', 'right_staff_of_d'), ('right_formation_n', 'right_is_continuous'), ('right_formation_n', 'right_size'), ('right_formation_n', 'right_staff_of_a'), ('right_staff_of_d', 'right_is_continuous'), ('right_staff_of_d', 'right_exit_stroke_d'), ('right_staff_of_d', 'right_is_lowercase'), ('right_staff_of_d', 'right_slantness'), ('right_staff_of_d', 'right_entry_stroke_a'), ('right_word_formation', 'right_dimension'), ('right_word_formation', 'right_staff_of_a'), ('right_word_formation', 'right_size'), ('right_word_formation', 'right_staff_of_d'), ('right_word_formation', 'right_constancy'), ('right_constancy', 'right_staff_of_a'), ('right_constancy', 'right_letter_spacing'),\n",
        "                                  ('right_constancy', 'right_dimension'),('left_exit_stroke_d', 'label'),\n",
        "                                 ('right_exit_stroke_d', 'label'),('left_pen_pressure', 'label'),\n",
        "                                 ('right_pen_pressure', 'label'),('left_formation_n', 'label'),\n",
        "                                 ('right_formation_n', 'label')])\n",
        "    return newBayesianModel\n",
        "\n"
      ],
      "execution_count": 0,
      "outputs": []
    },
    {
      "metadata": {
        "id": "VAyhaRtjt-BS",
        "colab_type": "code",
        "colab": {}
      },
      "cell_type": "code",
      "source": [
        "seenBayesianModel = getNewBayesianModel()"
      ],
      "execution_count": 0,
      "outputs": []
    },
    {
      "metadata": {
        "id": "BqCrlvO6dLaj",
        "colab_type": "code",
        "colab": {}
      },
      "cell_type": "code",
      "source": [
        "def generateData(dataset):\n",
        "    \n",
        "    sameDiffPair = pd.read_csv(dataset)\n",
        "    sameDiffPair = sameDiffPair.drop('Unnamed: 0', axis=1)\n",
        "\n",
        "    samePair = sameDiffPair.loc[sameDiffPair['label'] == 1].reset_index(drop=True)\n",
        "    diffPair = sameDiffPair.loc[sameDiffPair['label'] == 0].reset_index(drop=True)\n",
        "\n",
        "    #print(samePair.shape) \n",
        "    #print(diffPair.shape)\n",
        "    merged1 = pd.merge(samePair, andTable1, left_on = ['left'],right_on= ['imagename'],how = 'left').drop(['imagename'], axis='columns')\n",
        "    merged2 = pd.merge(samePair, andTable2, left_on = ['right'],right_on= ['imagename'],how = 'left').drop(['imagename','left','right','label'],axis='columns')\n",
        "    merged3=pd.concat([merged1, merged2],axis=1)\n",
        "    merged3= merged3.drop(['left','right'], axis='columns')\n",
        "    merged4 = pd.merge(diffPair, andTable1, left_on = ['left'],right_on= ['imagename'],how = 'left').drop(['imagename'], axis='columns')\n",
        "    merged5 = pd.merge(diffPair, andTable2, left_on = ['right'],right_on= ['imagename'],how = 'left').drop(['imagename','left','right','label'],axis='columns')\n",
        "    merged6=pd.concat([merged4, merged5],axis=1)\n",
        "    merged6= merged6.drop(['left','right'], axis='columns')\n",
        "    concatFeatures=pd.concat([merged3,merged6],axis = 0) \n",
        "    \n",
        "    concatFeatures = concatFeatures.dropna()\n",
        "    print(concatFeatures.shape)\n",
        "    concatFeatures=shuffle(concatFeatures)\n",
        "    return concatFeatures\n",
        "\n",
        "\n",
        "\n",
        "    \n",
        "\n"
      ],
      "execution_count": 0,
      "outputs": []
    },
    {
      "metadata": {
        "id": "KMM_0RzJdNxF",
        "colab_type": "code",
        "colab": {
          "base_uri": "https://localhost:8080/",
          "height": 51
        },
        "outputId": "fe3c9128-9f27-47f3-bfcf-490a586be180"
      },
      "cell_type": "code",
      "source": [
        "training_seen_features = generateData(seen_data).reset_index(drop=True)\n",
        "validation_seen_features = generateData(seen_validation_data).reset_index(drop=True)"
      ],
      "execution_count": 25,
      "outputs": [
        {
          "output_type": "stream",
          "text": [
            "(111753, 31)\n",
            "(894, 31)\n"
          ],
          "name": "stdout"
        }
      ]
    },
    {
      "metadata": {
        "id": "xBEbgusTdYUC",
        "colab_type": "code",
        "colab": {}
      },
      "cell_type": "code",
      "source": [
        "def normalizeData(data_feature):\n",
        "    columns=data_feature.columns\n",
        "    len(columns)\n",
        "    for i in range(1,len(columns)):\n",
        "        data_feature[columns[i]]=data_feature[columns[i]]-1\n",
        "    \n",
        "    return data_feature"
      ],
      "execution_count": 0,
      "outputs": []
    },
    {
      "metadata": {
        "id": "2lf0UVKWddUW",
        "colab_type": "code",
        "colab": {}
      },
      "cell_type": "code",
      "source": [
        "normalized_training_seen_features = normalizeData(training_seen_features)\n",
        "normalized_validation_seen_features = normalizeData(validation_seen_features)\n",
        "validation_seen_target_vector = normalized_validation_seen_features['label']\n",
        "validation_seen_data_vector = normalized_validation_seen_features.iloc[:,1:]\n",
        "validation_seen_data_vector = validation_seen_data_vector.astype(int)\n",
        "seenValidationDict = validation_seen_data_vector.to_dict('index')"
      ],
      "execution_count": 0,
      "outputs": []
    },
    {
      "metadata": {
        "id": "_oqtSHWTdrNk",
        "colab_type": "code",
        "colab": {
          "base_uri": "https://localhost:8080/",
          "height": 51
        },
        "outputId": "6ae303bc-5cf1-4291-ce4d-8a2ea1b1e16d"
      },
      "cell_type": "code",
      "source": [
        "import time\n",
        "start = time.time()\n",
        "seenBayesianModel = getNewBayesianModel()\n",
        "print(\"Bayesian Model Number of edges: \" + str(len(seenBayesianModel.edges())))\n",
        "seenBayesianModel.fit(normalized_training_seen_features)\n",
        "end = time.time()\n",
        "print(\"Seen Dataset time to trainin sec: \" + str(end-start))"
      ],
      "execution_count": 28,
      "outputs": [
        {
          "output_type": "stream",
          "text": [
            "Bayesian Model Number of edges: 90\n",
            "Seen Dataset time to trainin sec: 3.2819910049438477\n"
          ],
          "name": "stdout"
        }
      ]
    },
    {
      "metadata": {
        "id": "_kRTDXKVeJG8",
        "colab_type": "code",
        "colab": {}
      },
      "cell_type": "code",
      "source": [
        "from pgmpy.inference import VariableElimination\n",
        "def getValidationAccuracy(target_vector,dataDict,model):\n",
        "    infer = VariableElimination(model)\n",
        "    count = 0\n",
        "    for i in range(0,len(target_vector)):\n",
        "        data = dataDict[i]\n",
        "        target = target_vector[i]\n",
        "        #print(dataDict)\n",
        "        predicted = infer.map_query(['label'], evidence=data) ['label']\n",
        "        if(predicted == target):\n",
        "            count=count+1\n",
        "    return str(count/len(target_vector)*100)         "
      ],
      "execution_count": 0,
      "outputs": []
    },
    {
      "metadata": {
        "id": "4YDGG5Qbeheq",
        "colab_type": "code",
        "colab": {
          "base_uri": "https://localhost:8080/",
          "height": 51
        },
        "outputId": "9993bc95-2b00-42a7-97be-298abd1eb5a5"
      },
      "cell_type": "code",
      "source": [
        "start = time.time()\n",
        "print(\"Seen Validation Accuracy: \" + \n",
        "      getValidationAccuracy(validation_seen_target_vector,seenValidationDict,seenBayesianModel)) \n",
        "end = time.time()\n",
        "print(\"Seen Dataset time to infer in sec: \" + str(end-start))"
      ],
      "execution_count": 30,
      "outputs": [
        {
          "output_type": "stream",
          "text": [
            "Seen Validation Accuracy: 83.7807606263982\n",
            "Seen Dataset time to infer in sec: 365.8584849834442\n"
          ],
          "name": "stdout"
        }
      ]
    },
    {
      "metadata": {
        "id": "uo8trgRqe4ca",
        "colab_type": "code",
        "colab": {
          "base_uri": "https://localhost:8080/",
          "height": 85
        },
        "outputId": "f3dadbd5-3ef7-415f-af8c-f299b73bb7b1"
      },
      "cell_type": "code",
      "source": [
        "training_shuffled_features = generateData(shuffled_data).reset_index(drop=True)\n",
        "validation_shuffled_features = generateData(shuffled_validation_data).reset_index(drop=True)\n",
        "\n",
        "\n",
        "training_unseen_features = generateData(unseen_data).reset_index(drop=True)\n",
        "validation_unseen_features = generateData(unseen_validation_data).reset_index(drop=True)\n",
        "\n",
        "normalized_training_shuffled_features = normalizeData(training_shuffled_features)\n",
        "normalized_validation_shuffled_features = normalizeData(validation_shuffled_features)\n",
        "validation_shuffled_target_vector = normalized_validation_shuffled_features['label']\n",
        "validation_shuffled_data_vector = normalized_validation_shuffled_features.iloc[:,1:]\n",
        "validation_shuffled_data_vector = validation_shuffled_data_vector.astype(int)\n",
        "shuffledValidationDict = validation_shuffled_data_vector.to_dict('index')\n",
        "\n",
        "\n",
        "normalized_training_unseen_features = normalizeData(training_unseen_features)\n",
        "normalized_validation_unseen_features = normalizeData(validation_unseen_features)\n",
        "validation_unseen_target_vector = normalized_validation_unseen_features['label']\n",
        "validation_unseen_data_vector = normalized_validation_unseen_features.iloc[:,1:]\n",
        "validation_unseen_data_vector = validation_unseen_data_vector.astype(int)\n",
        "unseenValidationDict = validation_unseen_data_vector.to_dict('index')"
      ],
      "execution_count": 32,
      "outputs": [
        {
          "output_type": "stream",
          "text": [
            "(99825, 31)\n",
            "(5240, 31)\n",
            "(127273, 31)\n",
            "(7221, 31)\n"
          ],
          "name": "stdout"
        }
      ]
    },
    {
      "metadata": {
        "id": "SPbmGbXR-gUc",
        "colab_type": "code",
        "colab": {
          "base_uri": "https://localhost:8080/",
          "height": 51
        },
        "outputId": "23785c4b-ac9f-4dc6-8cfd-24b0d8d5e961"
      },
      "cell_type": "code",
      "source": [
        "start = time.time()\n",
        "shuffledBayesianModel = getNewBayesianModel()\n",
        "shuffledBayesianModel.fit(normalized_training_shuffled_features)\n",
        "end = time.time()\n",
        "print(\"Shuffled Dataset time to train in sec: \" + str(end-start))\n",
        "\n",
        "start = time.time()\n",
        "unseenBayesianModel = getNewBayesianModel()\n",
        "unseenBayesianModel.fit(normalized_training_unseen_features)\n",
        "end = time.time()\n",
        "print(\"Unseen Dataset time to train in sec: \" + str(end-start))"
      ],
      "execution_count": 33,
      "outputs": [
        {
          "output_type": "stream",
          "text": [
            "Shuffled Dataset time to train in sec: 2.967552661895752\n",
            "Unseen Dataset time to train in sec: 3.4997851848602295\n"
          ],
          "name": "stdout"
        }
      ]
    },
    {
      "metadata": {
        "id": "RLdr0i3F-gHR",
        "colab_type": "code",
        "colab": {
          "base_uri": "https://localhost:8080/",
          "height": 51
        },
        "outputId": "adb087ec-b4fc-4b10-c0e2-3435a09e1118"
      },
      "cell_type": "code",
      "source": [
        "start = time.time()\n",
        "print(\"Shuffled Validation Accuracy: \" + \n",
        "      getValidationAccuracy(validation_shuffled_target_vector,shuffledValidationDict,shuffledBayesianModel)) \n",
        "end = time.time()\n",
        "print(\"Shuffled Dataset time to infer in sec: \" + str(end-start))\n"
      ],
      "execution_count": 38,
      "outputs": [
        {
          "output_type": "stream",
          "text": [
            "Shuffled Validation Accuracy: 64.7516946564886\n",
            "Shuffled Dataset time to infer in sec: 2143.806659936905\n"
          ],
          "name": "stdout"
        }
      ]
    },
    {
      "metadata": {
        "id": "DUF6Ek_6-f99",
        "colab_type": "code",
        "colab": {
          "base_uri": "https://localhost:8080/",
          "height": 51
        },
        "outputId": "95d70f53-ea8f-470f-f024-f52e5af30eca"
      },
      "cell_type": "code",
      "source": [
        "start = time.time()\n",
        "print(\"Unseen Validation Accuracy: \" + \n",
        "      getValidationAccuracy(validation_unseen_target_vector,unseenValidationDict,unseenBayesianModel)) \n",
        "end = time.time()\n",
        "print(\"Unseen Dataset time to infer in sec: \" + str(end-start))"
      ],
      "execution_count": 35,
      "outputs": [
        {
          "output_type": "stream",
          "text": [
            "Unseen Validation Accuracy: 71.45824678022434\n",
            "Unseen Dataset time to infer in sec: 2927.6317183971405\n"
          ],
          "name": "stdout"
        }
      ]
    },
    {
      "metadata": {
        "id": "tmlO30yd-f0f",
        "colab_type": "code",
        "colab": {}
      },
      "cell_type": "code",
      "source": [
        ""
      ],
      "execution_count": 0,
      "outputs": []
    },
    {
      "metadata": {
        "id": "nRP97F23uyu9",
        "colab_type": "code",
        "colab": {}
      },
      "cell_type": "code",
      "source": [
        ""
      ],
      "execution_count": 0,
      "outputs": []
    },
    {
      "metadata": {
        "id": "Ut8cUNe_ycbo",
        "colab_type": "code",
        "colab": {}
      },
      "cell_type": "code",
      "source": [
        ""
      ],
      "execution_count": 0,
      "outputs": []
    },
    {
      "metadata": {
        "id": "39oEuEgd_OYN",
        "colab_type": "code",
        "colab": {}
      },
      "cell_type": "code",
      "source": [
        ""
      ],
      "execution_count": 0,
      "outputs": []
    },
    {
      "metadata": {
        "id": "iW1_3eb_YMCp",
        "colab_type": "code",
        "colab": {}
      },
      "cell_type": "code",
      "source": [
        ""
      ],
      "execution_count": 0,
      "outputs": []
    },
    {
      "metadata": {
        "id": "n8MnuJ3WMKYd",
        "colab_type": "code",
        "colab": {}
      },
      "cell_type": "code",
      "source": [
        ""
      ],
      "execution_count": 0,
      "outputs": []
    },
    {
      "metadata": {
        "id": "zXER5J58OnJk",
        "colab_type": "code",
        "colab": {}
      },
      "cell_type": "code",
      "source": [
        ""
      ],
      "execution_count": 0,
      "outputs": []
    },
    {
      "metadata": {
        "id": "QOQ5dmwRMVhM",
        "colab_type": "code",
        "colab": {}
      },
      "cell_type": "code",
      "source": [
        ""
      ],
      "execution_count": 0,
      "outputs": []
    },
    {
      "metadata": {
        "id": "jYCaWJ15OtHo",
        "colab_type": "code",
        "colab": {}
      },
      "cell_type": "code",
      "source": [
        ""
      ],
      "execution_count": 0,
      "outputs": []
    },
    {
      "metadata": {
        "id": "exqShh2a5cJk",
        "colab_type": "code",
        "colab": {}
      },
      "cell_type": "code",
      "source": [
        ""
      ],
      "execution_count": 0,
      "outputs": []
    }
  ]
}